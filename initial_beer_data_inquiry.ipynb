{
 "cells": [
  {
   "cell_type": "markdown",
   "metadata": {},
   "source": [
    "### About:\n",
    "This notebook is the initial exploration into the beer_data gathered by Andrew Carr from scraping the web. The original git repo can be foud [here](https://github.com/datadiarist/Beer_Data).\n",
    "\n",
    "The dataset is simple, with three attributes:\n",
    "- beer_full: the brewery/beer name\n",
    "- user_score: the users rating of a particular beer\n",
    "- user_id\n",
    "\n",
    "There are **5,487,730** total reviews by 102,606 users, and a total of 24,542 unique beers that were reviewed.\n",
    "\n",
    "In this notebook, I load the four data files into a single dataframe and begin exploration by grouping by user and then grouping by beer. I'm looking to see whether or not this dataset could be used to build a predictor, so that a user who reviews beer within the dataset can be recommended other beers from the dataset. I found that the average number of reviews per user is ~54 and the median is 6, the majority of users have left less than 10 reviews. the average number of reviews per beer is ~223, while the median is 54, about 16% have less than 25 reviews.\n",
    "\n",
    "If I were to drop all beers with less than 25 reviews, I could make a one hot encoded matrix where the rows/samples are about 100,000 users and the attributes are 20,688 beers.\n",
    "\n",
    "Finally, I added a 'beer_id' column to the original dataframe and removed the beer_full (names) column. I also made dictionaries to convert beer names to their ID's, and visa versa."
   ]
  },
  {
   "cell_type": "code",
   "execution_count": 1,
   "metadata": {},
   "outputs": [],
   "source": [
    "import numpy as np\n",
    "import pandas as pd\n",
    "import matplotlib.pyplot as plt\n",
    "import glob\n",
    "import cv2"
   ]
  },
  {
   "cell_type": "code",
   "execution_count": 2,
   "metadata": {},
   "outputs": [],
   "source": [
    "# loads all beer data, which is split over four files. Combines the data and returns a single dataframe \n",
    "def get_data():\n",
    "    path = \"./Beer_Data/beer_data*.csv\"\n",
    "    dfs = []\n",
    "    filepaths = glob.glob(path)                         # get list of all .csv files in filepath\n",
    "    for filepath in filepaths:\n",
    "        dfs.append(pd.read_csv(filepath, header=0))     # create list of df's, then append them and return\n",
    "    \n",
    "    return dfs[0].append(dfs[1:], ignore_index=True)\n"
   ]
  },
  {
   "cell_type": "code",
   "execution_count": 3,
   "metadata": {},
   "outputs": [],
   "source": [
    "df_orig = get_data().sort_values(by=['user_id'], ignore_index=True)"
   ]
  },
  {
   "cell_type": "code",
   "execution_count": 4,
   "metadata": {},
   "outputs": [
    {
     "data": {
      "text/html": [
       "<div>\n",
       "<style scoped>\n",
       "    .dataframe tbody tr th:only-of-type {\n",
       "        vertical-align: middle;\n",
       "    }\n",
       "\n",
       "    .dataframe tbody tr th {\n",
       "        vertical-align: top;\n",
       "    }\n",
       "\n",
       "    .dataframe thead th {\n",
       "        text-align: right;\n",
       "    }\n",
       "</style>\n",
       "<table border=\"1\" class=\"dataframe\">\n",
       "  <thead>\n",
       "    <tr style=\"text-align: right;\">\n",
       "      <th></th>\n",
       "      <th>beer_full</th>\n",
       "      <th>user_score</th>\n",
       "      <th>user_id</th>\n",
       "    </tr>\n",
       "  </thead>\n",
       "  <tbody>\n",
       "    <tr>\n",
       "      <th>0</th>\n",
       "      <td>Saint Arnold Brewing Company Spring Bock</td>\n",
       "      <td>3.75</td>\n",
       "      <td>1</td>\n",
       "    </tr>\n",
       "    <tr>\n",
       "      <th>1</th>\n",
       "      <td>Saint Arnold Brewing Company Homefront IPA</td>\n",
       "      <td>4.25</td>\n",
       "      <td>1</td>\n",
       "    </tr>\n",
       "    <tr>\n",
       "      <th>2</th>\n",
       "      <td>Saint Arnold Brewing Company Summer Pils</td>\n",
       "      <td>4.25</td>\n",
       "      <td>1</td>\n",
       "    </tr>\n",
       "    <tr>\n",
       "      <th>3</th>\n",
       "      <td>Buffalo Bayou Brewing Co Secessionist #1 (Ging...</td>\n",
       "      <td>4.25</td>\n",
       "      <td>1</td>\n",
       "    </tr>\n",
       "    <tr>\n",
       "      <th>4</th>\n",
       "      <td>(512) Brewing Company (512) Black IPA</td>\n",
       "      <td>4.50</td>\n",
       "      <td>1</td>\n",
       "    </tr>\n",
       "    <tr>\n",
       "      <th>...</th>\n",
       "      <td>...</td>\n",
       "      <td>...</td>\n",
       "      <td>...</td>\n",
       "    </tr>\n",
       "    <tr>\n",
       "      <th>5487725</th>\n",
       "      <td>Sierra Nevada Brewing Co. Sierra Nevada Pale Ale</td>\n",
       "      <td>3.50</td>\n",
       "      <td>102604</td>\n",
       "    </tr>\n",
       "    <tr>\n",
       "      <th>5487726</th>\n",
       "      <td>Sierra Nevada Brewing Co. Ruthless Rye IPA</td>\n",
       "      <td>3.50</td>\n",
       "      <td>102604</td>\n",
       "    </tr>\n",
       "    <tr>\n",
       "      <th>5487727</th>\n",
       "      <td>Sierra Nevada Brewing Co. Southern Hemisphere ...</td>\n",
       "      <td>3.82</td>\n",
       "      <td>102605</td>\n",
       "    </tr>\n",
       "    <tr>\n",
       "      <th>5487728</th>\n",
       "      <td>Steinhaus Brewing Co. Mission St. India Pale Ale</td>\n",
       "      <td>4.17</td>\n",
       "      <td>102605</td>\n",
       "    </tr>\n",
       "    <tr>\n",
       "      <th>5487729</th>\n",
       "      <td>Victory Brewing Company - Downingtown Moonglow...</td>\n",
       "      <td>4.42</td>\n",
       "      <td>102606</td>\n",
       "    </tr>\n",
       "  </tbody>\n",
       "</table>\n",
       "<p>5487730 rows × 3 columns</p>\n",
       "</div>"
      ],
      "text/plain": [
       "                                                 beer_full  user_score  \\\n",
       "0                 Saint Arnold Brewing Company Spring Bock        3.75   \n",
       "1               Saint Arnold Brewing Company Homefront IPA        4.25   \n",
       "2                 Saint Arnold Brewing Company Summer Pils        4.25   \n",
       "3        Buffalo Bayou Brewing Co Secessionist #1 (Ging...        4.25   \n",
       "4                    (512) Brewing Company (512) Black IPA        4.50   \n",
       "...                                                    ...         ...   \n",
       "5487725   Sierra Nevada Brewing Co. Sierra Nevada Pale Ale        3.50   \n",
       "5487726         Sierra Nevada Brewing Co. Ruthless Rye IPA        3.50   \n",
       "5487727  Sierra Nevada Brewing Co. Southern Hemisphere ...        3.82   \n",
       "5487728   Steinhaus Brewing Co. Mission St. India Pale Ale        4.17   \n",
       "5487729  Victory Brewing Company - Downingtown Moonglow...        4.42   \n",
       "\n",
       "         user_id  \n",
       "0              1  \n",
       "1              1  \n",
       "2              1  \n",
       "3              1  \n",
       "4              1  \n",
       "...          ...  \n",
       "5487725   102604  \n",
       "5487726   102604  \n",
       "5487727   102605  \n",
       "5487728   102605  \n",
       "5487729   102606  \n",
       "\n",
       "[5487730 rows x 3 columns]"
      ]
     },
     "execution_count": 4,
     "metadata": {},
     "output_type": "execute_result"
    }
   ],
   "source": [
    "df_orig"
   ]
  },
  {
   "cell_type": "code",
   "execution_count": 5,
   "metadata": {},
   "outputs": [],
   "source": [
    "user_group = df_orig.groupby('user_id')"
   ]
  },
  {
   "cell_type": "code",
   "execution_count": 6,
   "metadata": {},
   "outputs": [],
   "source": [
    "# build a dataframe that shows the number of reviews each user has\n",
    "user_num_reviews_df = user_group.count().drop(columns=['user_score']).rename(columns={'beer_full': 'num_reviews'})"
   ]
  },
  {
   "cell_type": "code",
   "execution_count": 7,
   "metadata": {},
   "outputs": [
    {
     "data": {
      "text/html": [
       "<div>\n",
       "<style scoped>\n",
       "    .dataframe tbody tr th:only-of-type {\n",
       "        vertical-align: middle;\n",
       "    }\n",
       "\n",
       "    .dataframe tbody tr th {\n",
       "        vertical-align: top;\n",
       "    }\n",
       "\n",
       "    .dataframe thead th {\n",
       "        text-align: right;\n",
       "    }\n",
       "</style>\n",
       "<table border=\"1\" class=\"dataframe\">\n",
       "  <thead>\n",
       "    <tr style=\"text-align: right;\">\n",
       "      <th></th>\n",
       "      <th>user_id</th>\n",
       "      <th>num_reviews</th>\n",
       "    </tr>\n",
       "  </thead>\n",
       "  <tbody>\n",
       "    <tr>\n",
       "      <th>0</th>\n",
       "      <td>1</td>\n",
       "      <td>27</td>\n",
       "    </tr>\n",
       "    <tr>\n",
       "      <th>1</th>\n",
       "      <td>2</td>\n",
       "      <td>370</td>\n",
       "    </tr>\n",
       "    <tr>\n",
       "      <th>2</th>\n",
       "      <td>3</td>\n",
       "      <td>5391</td>\n",
       "    </tr>\n",
       "    <tr>\n",
       "      <th>3</th>\n",
       "      <td>4</td>\n",
       "      <td>412</td>\n",
       "    </tr>\n",
       "    <tr>\n",
       "      <th>4</th>\n",
       "      <td>5</td>\n",
       "      <td>2440</td>\n",
       "    </tr>\n",
       "    <tr>\n",
       "      <th>5</th>\n",
       "      <td>6</td>\n",
       "      <td>226</td>\n",
       "    </tr>\n",
       "    <tr>\n",
       "      <th>6</th>\n",
       "      <td>7</td>\n",
       "      <td>245</td>\n",
       "    </tr>\n",
       "    <tr>\n",
       "      <th>7</th>\n",
       "      <td>8</td>\n",
       "      <td>64</td>\n",
       "    </tr>\n",
       "    <tr>\n",
       "      <th>8</th>\n",
       "      <td>9</td>\n",
       "      <td>4283</td>\n",
       "    </tr>\n",
       "    <tr>\n",
       "      <th>9</th>\n",
       "      <td>10</td>\n",
       "      <td>4</td>\n",
       "    </tr>\n",
       "  </tbody>\n",
       "</table>\n",
       "</div>"
      ],
      "text/plain": [
       "   user_id  num_reviews\n",
       "0        1           27\n",
       "1        2          370\n",
       "2        3         5391\n",
       "3        4          412\n",
       "4        5         2440\n",
       "5        6          226\n",
       "6        7          245\n",
       "7        8           64\n",
       "8        9         4283\n",
       "9       10            4"
      ]
     },
     "execution_count": 7,
     "metadata": {},
     "output_type": "execute_result"
    }
   ],
   "source": [
    "user_num_reviews_df = user_num_reviews_df.reset_index()\n",
    "user_num_reviews_df.head(10)"
   ]
  },
  {
   "cell_type": "code",
   "execution_count": null,
   "metadata": {},
   "outputs": [],
   "source": []
  },
  {
   "cell_type": "code",
   "execution_count": 14,
   "metadata": {},
   "outputs": [
    {
     "name": "stdout",
     "output_type": "stream",
     "text": [
      "average number of reviews by a user:\t 53.483519482291484\n",
      "median of reiviews by a user:\t\t 6.0\n",
      "max number of reviews by a user:\t 5564\n"
     ]
    }
   ],
   "source": [
    "# a few statistics about number of user reviews per user\n",
    "print('average number of reviews by a user:\\t', user_num_reviews_df['num_reviews'].mean())\n",
    "print('median of reiviews by a user:\\t\\t', user_num_reviews_df['num_reviews'].median())\n",
    "print('max number of reviews by a user:\\t', user_num_reviews_df['num_reviews'].max())"
   ]
  },
  {
   "cell_type": "code",
   "execution_count": 15,
   "metadata": {},
   "outputs": [
    {
     "name": "stdout",
     "output_type": "stream",
     "text": [
      "% users with less than 25 reviews: 0.590101943356139\n"
     ]
    }
   ],
   "source": [
    "print('% users with less than 25 reviews:', \n",
    "       user_num_reviews_df[user_num_reviews_df['num_reviews'] < 10]['num_reviews'].count()/user_num_reviews_df['num_reviews'].count())"
   ]
  },
  {
   "cell_type": "code",
   "execution_count": 16,
   "metadata": {},
   "outputs": [
    {
     "data": {
      "text/plain": [
       "(array([451., 145.,  77.,  36.,  12.,   7.,   8.,   3.,   5.,   1.,   0.,\n",
       "          0.,   0.,   0.,   0.,   0.,   0.]),\n",
       " array([1001, 1501, 2001, 2501, 3001, 3501, 4001, 4501, 5001, 5501, 6001,\n",
       "        6501, 7001, 7501, 8001, 8501, 9001, 9501]),\n",
       " <a list of 17 Patch objects>)"
      ]
     },
     "execution_count": 16,
     "metadata": {},
     "output_type": "execute_result"
    },
    {
     "data": {
      "image/png": "[encoded data removed]",
      "text/plain": [
       "<Figure size 432x288 with 1 Axes>"
      ]
     },
     "metadata": {
      "needs_background": "light"
     },
     "output_type": "display_data"
    },
    {
     "data": {
      "image/png": "[encoded data removed]",
      "text/plain": [
       "<Figure size 432x288 with 1 Axes>"
      ]
     },
     "metadata": {
      "needs_background": "light"
     },
     "output_type": "display_data"
    },
    {
     "data": {
      "image/png": "[encoded data removed]",
      "text/plain": [
       "<Figure size 432x288 with 1 Axes>"
      ]
     },
     "metadata": {
      "needs_background": "light"
     },
     "output_type": "display_data"
    }
   ],
   "source": [
    "# visualize number of user reviews per user\n",
    "plt.figure()\n",
    "plt.title(label=\"steps of 5\")\n",
    "plt.xlabel('reviews')\n",
    "plt.ylabel('users')\n",
    "plt.hist(x = user_num_reviews_df['num_reviews'], bins = range(1,101,5))\n",
    "\n",
    "plt.figure()\n",
    "plt.title(label=\"steps of 50\")\n",
    "plt.xlabel('reviews')\n",
    "plt.ylabel('users')\n",
    "plt.hist(x = user_num_reviews_df['num_reviews'], bins = range(101,1001,50))\n",
    "\n",
    "plt.figure()\n",
    "plt.title(label=\"steps of 500\")\n",
    "plt.xlabel('reviews')\n",
    "plt.ylabel('users')\n",
    "plt.hist(x = user_num_reviews_df['num_reviews'], bins = range(1001,10001, 500))"
   ]
  },
  {
   "cell_type": "markdown",
   "metadata": {},
   "source": [
    "**Note:** There is a high concentration of users who only left a few reviews. I think A good way to represent this data would be bag-of-words style where attributes are beers, although that will result in a HUGE number of attributes"
   ]
  },
  {
   "cell_type": "code",
   "execution_count": 17,
   "metadata": {},
   "outputs": [],
   "source": [
    "beer_group = df_orig.groupby('beer_full', sort=True)"
   ]
  },
  {
   "cell_type": "code",
   "execution_count": 18,
   "metadata": {},
   "outputs": [],
   "source": [
    "# get the number of reviews per beer, make it a dataframe\n",
    "beer_num_reviews_df = beer_group.count().drop(columns=['user_score']).rename(columns={'user_id': 'num_reviews'})\n",
    "# add a beer_id column numbered 0 through (numBeers-1). double 'reset' creates a numbered index then bumps it to\n",
    "# a column, then we move beer_full back to the index\n",
    "beer_num_reviews_df = beer_num_reviews_df.reset_index().reset_index().rename(columns={'index': 'beer_id'}).set_index('beer_full')"
   ]
  },
  {
   "cell_type": "code",
   "execution_count": 39,
   "metadata": {},
   "outputs": [],
   "source": [
    "# sort beers by number of reviews\n",
    "beer_num_reviews_df = beer_num_reviews_df.sort_values(by='num_reviews')"
   ]
  },
  {
   "cell_type": "code",
   "execution_count": 40,
   "metadata": {},
   "outputs": [
    {
     "data": {
      "text/html": [
       "<div>\n",
       "<style scoped>\n",
       "    .dataframe tbody tr th:only-of-type {\n",
       "        vertical-align: middle;\n",
       "    }\n",
       "\n",
       "    .dataframe tbody tr th {\n",
       "        vertical-align: top;\n",
       "    }\n",
       "\n",
       "    .dataframe thead th {\n",
       "        text-align: right;\n",
       "    }\n",
       "</style>\n",
       "<table border=\"1\" class=\"dataframe\">\n",
       "  <thead>\n",
       "    <tr style=\"text-align: right;\">\n",
       "      <th></th>\n",
       "      <th>beer_id</th>\n",
       "      <th>num_reviews</th>\n",
       "    </tr>\n",
       "    <tr>\n",
       "      <th>beer_full</th>\n",
       "      <th></th>\n",
       "      <th></th>\n",
       "    </tr>\n",
       "  </thead>\n",
       "  <tbody>\n",
       "    <tr>\n",
       "      <th>McMenamins Sweet Oblivion Porter</th>\n",
       "      <td>13607</td>\n",
       "      <td>3</td>\n",
       "    </tr>\n",
       "    <tr>\n",
       "      <th>McMenamins Devil's Bitter</th>\n",
       "      <td>13589</td>\n",
       "      <td>3</td>\n",
       "    </tr>\n",
       "    <tr>\n",
       "      <th>McMenamins Hill's Gold</th>\n",
       "      <td>13592</td>\n",
       "      <td>3</td>\n",
       "    </tr>\n",
       "    <tr>\n",
       "      <th>McMenamins Mango Unchained Double IPA (Brewmaster's Reserve)</th>\n",
       "      <td>13598</td>\n",
       "      <td>3</td>\n",
       "    </tr>\n",
       "    <tr>\n",
       "      <th>Granite City Food &amp; Brewery Bump in the Night</th>\n",
       "      <td>9269</td>\n",
       "      <td>4</td>\n",
       "    </tr>\n",
       "    <tr>\n",
       "      <th>...</th>\n",
       "      <td>...</td>\n",
       "      <td>...</td>\n",
       "    </tr>\n",
       "    <tr>\n",
       "      <th>The Alchemist Heady Topper</th>\n",
       "      <td>21086</td>\n",
       "      <td>14502</td>\n",
       "    </tr>\n",
       "    <tr>\n",
       "      <th>Russian River Brewing Company Pliny The Elder</th>\n",
       "      <td>18504</td>\n",
       "      <td>14633</td>\n",
       "    </tr>\n",
       "    <tr>\n",
       "      <th>Bell's Brewery - Eccentric Café &amp; General Store Two Hearted Ale</th>\n",
       "      <td>2577</td>\n",
       "      <td>14826</td>\n",
       "    </tr>\n",
       "    <tr>\n",
       "      <th>Dogfish Head Craft Brewery 90 Minute IPA</th>\n",
       "      <td>6507</td>\n",
       "      <td>16101</td>\n",
       "    </tr>\n",
       "    <tr>\n",
       "      <th>Founders Brewing Company Breakfast Stout</th>\n",
       "      <td>8440</td>\n",
       "      <td>17070</td>\n",
       "    </tr>\n",
       "  </tbody>\n",
       "</table>\n",
       "<p>24542 rows × 2 columns</p>\n",
       "</div>"
      ],
      "text/plain": [
       "                                                    beer_id  num_reviews\n",
       "beer_full                                                               \n",
       "McMenamins Sweet Oblivion Porter                      13607            3\n",
       "McMenamins Devil's Bitter                             13589            3\n",
       "McMenamins Hill's Gold                                13592            3\n",
       "McMenamins Mango Unchained Double IPA (Brewmast...    13598            3\n",
       "Granite City Food & Brewery Bump in the Night          9269            4\n",
       "...                                                     ...          ...\n",
       "The Alchemist Heady Topper                            21086        14502\n",
       "Russian River Brewing Company Pliny The Elder         18504        14633\n",
       "Bell's Brewery - Eccentric Café & General Store...     2577        14826\n",
       "Dogfish Head Craft Brewery 90 Minute IPA               6507        16101\n",
       "Founders Brewing Company Breakfast Stout               8440        17070\n",
       "\n",
       "[24542 rows x 2 columns]"
      ]
     },
     "execution_count": 40,
     "metadata": {},
     "output_type": "execute_result"
    }
   ],
   "source": [
    "beer_num_reviews_df"
   ]
  },
  {
   "cell_type": "code",
   "execution_count": 41,
   "metadata": {},
   "outputs": [
    {
     "name": "stdout",
     "output_type": "stream",
     "text": [
      "average number of reviews per beer:\t 223.60565561078965\n",
      "median of reiviews per beer:\t\t 54.0\n",
      "max number of reviews per beer:\t\t 17070\n"
     ]
    }
   ],
   "source": [
    "# statistics around number of ratings per beer\n",
    "print('average number of reviews per beer:\\t', beer_num_reviews_df['num_reviews'].mean())\n",
    "print('median of reiviews per beer:\\t\\t', beer_num_reviews_df['num_reviews'].median())\n",
    "print('max number of reviews per beer:\\t\\t', beer_num_reviews_df['num_reviews'].max())"
   ]
  },
  {
   "cell_type": "code",
   "execution_count": 42,
   "metadata": {
    "scrolled": true
   },
   "outputs": [
    {
     "data": {
      "text/plain": [
       "(array([416., 201., 111., 105.,  52.,  39.,  34.,  16.,  17.,  17.,  14.,\n",
       "         14.,   6.,  12.,   1.,   5.,   3.]),\n",
       " array([1001, 1501, 2001, 2501, 3001, 3501, 4001, 4501, 5001, 5501, 6001,\n",
       "        6501, 7001, 7501, 8001, 8501, 9001, 9501]),\n",
       " <a list of 17 Patch objects>)"
      ]
     },
     "execution_count": 42,
     "metadata": {},
     "output_type": "execute_result"
    },
    {
     "data": {
      "image/png": "[encoded data removed]",
      "text/plain": [
       "<Figure size 432x288 with 1 Axes>"
      ]
     },
     "metadata": {
      "needs_background": "light"
     },
     "output_type": "display_data"
    },
    {
     "data": {
      "image/png": "[encoded data removed]",
      "text/plain": [
       "<Figure size 432x288 with 1 Axes>"
      ]
     },
     "metadata": {
      "needs_background": "light"
     },
     "output_type": "display_data"
    },
    {
     "data": {
      "image/png": "[encoded data removed]",
      "text/plain": [
       "<Figure size 432x288 with 1 Axes>"
      ]
     },
     "metadata": {
      "needs_background": "light"
     },
     "output_type": "display_data"
    }
   ],
   "source": [
    "plt.figure()\n",
    "plt.title(label=\"steps of 5\")\n",
    "plt.xlabel('reviews')\n",
    "plt.ylabel('beers')\n",
    "plt.hist(x = beer_num_reviews_df['num_reviews'], bins = range(1,101,5))\n",
    "\n",
    "plt.figure()\n",
    "plt.title(label=\"steps of 50\")\n",
    "plt.xlabel('reviews')\n",
    "plt.ylabel('beers')\n",
    "plt.hist(x = beer_num_reviews_df['num_reviews'], bins = range(101,1001,50))\n",
    "\n",
    "plt.figure()\n",
    "plt.title(label=\"steps of 500\")\n",
    "plt.xlabel('reviews')\n",
    "plt.ylabel('beers')\n",
    "plt.hist(x = beer_num_reviews_df['num_reviews'], bins = range(1001,10001, 500))"
   ]
  },
  {
   "cell_type": "code",
   "execution_count": 43,
   "metadata": {},
   "outputs": [],
   "source": [
    "# more stats about ratings per beer\n",
    "minNum = 25\n",
    "perc_dropped = beer_num_reviews_df[beer_num_reviews_df['num_reviews'] < minNum]['beer_id'].count()/beer_num_reviews_df['beer_id'].count()"
   ]
  },
  {
   "cell_type": "code",
   "execution_count": 44,
   "metadata": {},
   "outputs": [
    {
     "name": "stdout",
     "output_type": "stream",
     "text": [
      "there are 3859 beers with less than 25 reviews. this makes 0.157 of the data\n",
      "\n"
     ]
    }
   ],
   "source": [
    "print('there are %d beers with less than %d reviews. this makes %.3f of the data\\n'\n",
    "       %(perc_dropped*beer_num_reviews_df['beer_id'].count(), minNum, perc_dropped))"
   ]
  },
  {
   "cell_type": "markdown",
   "metadata": {},
   "source": [
    "**Note:** could drop the 15.7% of beers with less than 25 reviews to help reduce attributes in bag of words format."
   ]
  },
  {
   "cell_type": "code",
   "execution_count": 45,
   "metadata": {},
   "outputs": [],
   "source": [
    "# dictionaries used to convert beer id (int) to beer name (str) and visa versa\n",
    "beer_name2id = dict(zip(beer_num_reviews_df.index, beer_num_reviews_df['beer_id']))\n",
    "beer_id2name = dict(zip(beer_num_reviews_df['beer_id'], beer_num_reviews_df.index))"
   ]
  },
  {
   "cell_type": "code",
   "execution_count": 25,
   "metadata": {},
   "outputs": [],
   "source": [
    "# add the beer ID's to the original dataframe, re-organize the columns and drop the beer names\n",
    "df = df_orig\n",
    "beer_id_array = [beer_name2id[name] for name in df_orig['beer_full']]\n",
    "df['beer_id'] = beer_id_array\n",
    "df = df.drop(columns=['beer_full'])[['beer_id', 'user_score', 'user_id']]"
   ]
  },
  {
   "cell_type": "code",
   "execution_count": 46,
   "metadata": {},
   "outputs": [
    {
     "data": {
      "text/html": [
       "<div>\n",
       "<style scoped>\n",
       "    .dataframe tbody tr th:only-of-type {\n",
       "        vertical-align: middle;\n",
       "    }\n",
       "\n",
       "    .dataframe tbody tr th {\n",
       "        vertical-align: top;\n",
       "    }\n",
       "\n",
       "    .dataframe thead th {\n",
       "        text-align: right;\n",
       "    }\n",
       "</style>\n",
       "<table border=\"1\" class=\"dataframe\">\n",
       "  <thead>\n",
       "    <tr style=\"text-align: right;\">\n",
       "      <th></th>\n",
       "      <th>beer_id</th>\n",
       "      <th>user_score</th>\n",
       "      <th>user_id</th>\n",
       "    </tr>\n",
       "  </thead>\n",
       "  <tbody>\n",
       "    <tr>\n",
       "      <th>0</th>\n",
       "      <td>18580</td>\n",
       "      <td>3.75</td>\n",
       "      <td>1</td>\n",
       "    </tr>\n",
       "    <tr>\n",
       "      <th>1</th>\n",
       "      <td>18570</td>\n",
       "      <td>4.25</td>\n",
       "      <td>1</td>\n",
       "    </tr>\n",
       "    <tr>\n",
       "      <th>2</th>\n",
       "      <td>18581</td>\n",
       "      <td>4.25</td>\n",
       "      <td>1</td>\n",
       "    </tr>\n",
       "    <tr>\n",
       "      <th>3</th>\n",
       "      <td>4200</td>\n",
       "      <td>4.25</td>\n",
       "      <td>1</td>\n",
       "    </tr>\n",
       "    <tr>\n",
       "      <th>4</th>\n",
       "      <td>1</td>\n",
       "      <td>4.50</td>\n",
       "      <td>1</td>\n",
       "    </tr>\n",
       "    <tr>\n",
       "      <th>...</th>\n",
       "      <td>...</td>\n",
       "      <td>...</td>\n",
       "      <td>...</td>\n",
       "    </tr>\n",
       "    <tr>\n",
       "      <th>5487725</th>\n",
       "      <td>19337</td>\n",
       "      <td>3.50</td>\n",
       "      <td>102604</td>\n",
       "    </tr>\n",
       "    <tr>\n",
       "      <th>5487726</th>\n",
       "      <td>19332</td>\n",
       "      <td>3.50</td>\n",
       "      <td>102604</td>\n",
       "    </tr>\n",
       "    <tr>\n",
       "      <th>5487727</th>\n",
       "      <td>19347</td>\n",
       "      <td>3.82</td>\n",
       "      <td>102605</td>\n",
       "    </tr>\n",
       "    <tr>\n",
       "      <th>5487728</th>\n",
       "      <td>20332</td>\n",
       "      <td>4.17</td>\n",
       "      <td>102605</td>\n",
       "    </tr>\n",
       "    <tr>\n",
       "      <th>5487729</th>\n",
       "      <td>23542</td>\n",
       "      <td>4.42</td>\n",
       "      <td>102606</td>\n",
       "    </tr>\n",
       "  </tbody>\n",
       "</table>\n",
       "<p>5487730 rows × 3 columns</p>\n",
       "</div>"
      ],
      "text/plain": [
       "         beer_id  user_score  user_id\n",
       "0          18580        3.75        1\n",
       "1          18570        4.25        1\n",
       "2          18581        4.25        1\n",
       "3           4200        4.25        1\n",
       "4              1        4.50        1\n",
       "...          ...         ...      ...\n",
       "5487725    19337        3.50   102604\n",
       "5487726    19332        3.50   102604\n",
       "5487727    19347        3.82   102605\n",
       "5487728    20332        4.17   102605\n",
       "5487729    23542        4.42   102606\n",
       "\n",
       "[5487730 rows x 3 columns]"
      ]
     },
     "execution_count": 46,
     "metadata": {},
     "output_type": "execute_result"
    }
   ],
   "source": [
    "df"
   ]
  },
  {
   "cell_type": "code",
   "execution_count": 47,
   "metadata": {},
   "outputs": [],
   "source": [
    "# write data to csv files\n",
    "beer_num_reviews_df['beer_id'].to_csv('./Beer_Data/beer_ids.csv')"
   ]
  },
  {
   "cell_type": "code",
   "execution_count": 48,
   "metadata": {},
   "outputs": [],
   "source": [
    "df.to_csv('./Beer_Data/numeric_beer_data.csv', index=False)"
   ]
  },
  {
   "cell_type": "code",
   "execution_count": 49,
   "metadata": {},
   "outputs": [
    {
     "data": {
      "text/plain": [
       "9999"
      ]
     },
     "execution_count": 49,
     "metadata": {},
     "output_type": "execute_result"
    }
   ],
   "source": [
    "# get beer ID's of beers with 72 or more ratings\n",
    "beers_2_keep = beer_num_reviews_df[beer_num_reviews_df[\"num_reviews\"] >= 72][\"beer_id\"].tolist()\n",
    "len(beers_2_keep) # there are 20683 beers that will be kept"
   ]
  },
  {
   "cell_type": "code",
   "execution_count": 50,
   "metadata": {},
   "outputs": [
    {
     "data": {
      "text/html": [
       "<div>\n",
       "<style scoped>\n",
       "    .dataframe tbody tr th:only-of-type {\n",
       "        vertical-align: middle;\n",
       "    }\n",
       "\n",
       "    .dataframe tbody tr th {\n",
       "        vertical-align: top;\n",
       "    }\n",
       "\n",
       "    .dataframe thead th {\n",
       "        text-align: right;\n",
       "    }\n",
       "</style>\n",
       "<table border=\"1\" class=\"dataframe\">\n",
       "  <thead>\n",
       "    <tr style=\"text-align: right;\">\n",
       "      <th></th>\n",
       "      <th>user_id</th>\n",
       "      <th>num_reviews</th>\n",
       "    </tr>\n",
       "  </thead>\n",
       "  <tbody>\n",
       "    <tr>\n",
       "      <th>0</th>\n",
       "      <td>1</td>\n",
       "      <td>27</td>\n",
       "    </tr>\n",
       "    <tr>\n",
       "      <th>1</th>\n",
       "      <td>2</td>\n",
       "      <td>370</td>\n",
       "    </tr>\n",
       "    <tr>\n",
       "      <th>2</th>\n",
       "      <td>3</td>\n",
       "      <td>5391</td>\n",
       "    </tr>\n",
       "    <tr>\n",
       "      <th>3</th>\n",
       "      <td>4</td>\n",
       "      <td>412</td>\n",
       "    </tr>\n",
       "    <tr>\n",
       "      <th>4</th>\n",
       "      <td>5</td>\n",
       "      <td>2440</td>\n",
       "    </tr>\n",
       "    <tr>\n",
       "      <th>...</th>\n",
       "      <td>...</td>\n",
       "      <td>...</td>\n",
       "    </tr>\n",
       "    <tr>\n",
       "      <th>102601</th>\n",
       "      <td>102602</td>\n",
       "      <td>1</td>\n",
       "    </tr>\n",
       "    <tr>\n",
       "      <th>102602</th>\n",
       "      <td>102603</td>\n",
       "      <td>1</td>\n",
       "    </tr>\n",
       "    <tr>\n",
       "      <th>102603</th>\n",
       "      <td>102604</td>\n",
       "      <td>2</td>\n",
       "    </tr>\n",
       "    <tr>\n",
       "      <th>102604</th>\n",
       "      <td>102605</td>\n",
       "      <td>2</td>\n",
       "    </tr>\n",
       "    <tr>\n",
       "      <th>102605</th>\n",
       "      <td>102606</td>\n",
       "      <td>1</td>\n",
       "    </tr>\n",
       "  </tbody>\n",
       "</table>\n",
       "<p>102606 rows × 2 columns</p>\n",
       "</div>"
      ],
      "text/plain": [
       "        user_id  num_reviews\n",
       "0             1           27\n",
       "1             2          370\n",
       "2             3         5391\n",
       "3             4          412\n",
       "4             5         2440\n",
       "...         ...          ...\n",
       "102601   102602            1\n",
       "102602   102603            1\n",
       "102603   102604            2\n",
       "102604   102605            2\n",
       "102605   102606            1\n",
       "\n",
       "[102606 rows x 2 columns]"
      ]
     },
     "execution_count": 50,
     "metadata": {},
     "output_type": "execute_result"
    }
   ],
   "source": [
    "user_num_reviews_df"
   ]
  },
  {
   "cell_type": "code",
   "execution_count": 51,
   "metadata": {},
   "outputs": [
    {
     "data": {
      "text/plain": [
       "50291"
      ]
     },
     "execution_count": 51,
     "metadata": {},
     "output_type": "execute_result"
    }
   ],
   "source": [
    "users_2_keep = user_num_reviews_df[user_num_reviews_df['num_reviews'] >= 7]['user_id'].tolist()\n",
    "len(users_2_keep)"
   ]
  },
  {
   "cell_type": "code",
   "execution_count": 52,
   "metadata": {},
   "outputs": [],
   "source": [
    "# drop beers with less than 72 reviews and save 'reduced' datasets\n",
    "df_reduced = df[df['beer_id'].isin(beers_2_keep)]"
   ]
  },
  {
   "cell_type": "code",
   "execution_count": 54,
   "metadata": {},
   "outputs": [],
   "source": [
    "# drop beers with less than 72 reviews from beer review count df, save to file\n",
    "beer_num_reviews_df_reduced = beer_num_reviews_df[beer_num_reviews_df.beer_id.isin(beers_2_keep)]"
   ]
  },
  {
   "cell_type": "code",
   "execution_count": 57,
   "metadata": {},
   "outputs": [],
   "source": [
    "beer_num_reviews_df_reduced.to_csv('./Beer_Data/reduced_reviews_per_beer.csv', index=False)"
   ]
  },
  {
   "cell_type": "code",
   "execution_count": 53,
   "metadata": {},
   "outputs": [],
   "source": [
    "df_reduced.to_csv('./Beer_Data/reduced_numeric_data.csv', index=False)"
   ]
  },
  {
   "cell_type": "code",
   "execution_count": 32,
   "metadata": {},
   "outputs": [],
   "source": [
    "df_orig_reduced = df_orig[df['beer_id'].isin(beers_2_keep)]\n",
    "df_orig_reduced.to_csv('./Beer_Data/reduced_data.csv', index=False)"
   ]
  },
  {
   "cell_type": "code",
   "execution_count": null,
   "metadata": {},
   "outputs": [],
   "source": []
  }
 ],
 "metadata": {
  "kernelspec": {
   "display_name": "Python [conda env:root] *",
   "language": "python",
   "name": "conda-root-py"
  },
  "language_info": {
   "codemirror_mode": {
    "name": "ipython",
    "version": 3
   },
   "file_extension": ".py",
   "mimetype": "text/x-python",
   "name": "python",
   "nbconvert_exporter": "python",
   "pygments_lexer": "ipython3",
   "version": "3.7.4"
  }
 },
 "nbformat": 4,
 "nbformat_minor": 4
}
