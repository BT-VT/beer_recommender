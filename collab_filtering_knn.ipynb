{
 "cells": [
  {
   "cell_type": "markdown",
   "metadata": {},
   "source": [
    "## About / Notes\n",
    "\n",
    "### This code is an edited version of the movie recommender notebook by Kevin Liao found [here](https://github.com/KevinLiao159/MyDataSciencePortfolio/blob/master/movie_recommender/movie_recommendation_using_KNN.ipynb)\n",
    "\n",
    "- Collaborative filtering doesnt rely on information about features or users, rather it uses user feedback about the features to determine which features are most similar.\n",
    "- It can be good at recommending items that are categorically different than the input data (input is IPA, may recommend GOSE)\n",
    "- cold start problem: new items with less ratings are less likely to be recommended, particularly when dealing with sparse data\n",
    "\n",
    "\n",
    "KNN collaborative filtering approach to recommending beers based on a sparse dataset.\n",
    "\n",
    "- num reviews: 4,837,392 (out of 5,487,730)\n",
    "- num beers: 9,999 (out of 24,542)\n",
    "- num users: 52,707 (out of 101,574)\n",
    "\n",
    "**item based approach** will allow the computations to be done offline and then served, as the items change less than users.\n",
    "A user based approach would need to be updated and retrained too frequently.\n",
    "\n",
    "**euclidean dist vs cosine similarity:**\n",
    "- **cosine:**\n",
    "- looks at the angle between two vectors without considering magnitude\n",
    "- useful when comparing vectors of different length or dimensionality, helps balance the gap and prevent favoring samples based on number of dimensions rather than similarity between values.\n",
    "\n",
    "**choosing a nearest neighbor algorithm:**\n",
    "- **brute:** can be very slow for large datasets with high dimensionality\n",
    "- **ball tree:** \n",
    "- recursively divide data into nodes defined by centroid C and radius r, which reduces the candidates to compare to a new data point. Builds a tree to filter new data points into the most similar node (brute force is then done within node).\n",
    "- works well with sparse data that is highly intrinsic, but large portion of time is spent building the query tree relative to doing a single query. better when several queries are necessary (true for recommender!)\n",
    "- leaf_size == node size, very high leaf size results in quick construction but closer query time to brute force. very low leaf size results in lots of time spent filtering through tree.\n",
    "\n",
    "**choosing k:**\n",
    "- **brute:** largely unnaffected by choice of k\n",
    "- **ball tree:** can slow down with larger k partially due to internal queuing and increased difficulty pruning branches in query tree.\n"
   ]
  },
  {
   "cell_type": "code",
   "execution_count": 1,
   "metadata": {},
   "outputs": [],
   "source": [
    "import os\n",
    "import time\n",
    "\n",
    "\n",
    "import math\n",
    "from scipy.sparse import csr_matrix\n",
    "from sklearn.neighbors import NearestNeighbors\n",
    "import numpy as np\n",
    "import pandas as pd\n",
    "\n",
    "import json\n",
    "from fuzzywuzzy import fuzz\n",
    "import seaborn as sns\n",
    "import matplotlib.pyplot as plt\n",
    "%matplotlib inline"
   ]
  },
  {
   "cell_type": "code",
   "execution_count": 2,
   "metadata": {},
   "outputs": [],
   "source": [
    "# has beer names\n",
    "df_orig = pd.read_csv('./Beer_Data/reduced_data.csv')\n",
    "# totally numeric, no beer names\n",
    "df = pd.read_csv('./Beer_Data/reduced_data_X2.csv')\n",
    "# beer names to ID's\n",
    "beer_ids = pd.read_csv('./Beer_Data/beer_ids.csv')"
   ]
  },
  {
   "cell_type": "code",
   "execution_count": 3,
   "metadata": {},
   "outputs": [],
   "source": [
    "# drop index in beer_ids and build maps \n",
    "beer_ids = beer_ids.set_index('beer_id')\n",
    "id2beer = beer_ids.to_dict()['beer_full']\n",
    "beer2id = {name:beer_id for beer_id, name in id2beer.items()}"
   ]
  },
  {
   "cell_type": "code",
   "execution_count": 4,
   "metadata": {
    "scrolled": true
   },
   "outputs": [
    {
     "data": {
      "text/html": [
       "<div>\n",
       "<style scoped>\n",
       "    .dataframe tbody tr th:only-of-type {\n",
       "        vertical-align: middle;\n",
       "    }\n",
       "\n",
       "    .dataframe tbody tr th {\n",
       "        vertical-align: top;\n",
       "    }\n",
       "\n",
       "    .dataframe thead th {\n",
       "        text-align: right;\n",
       "    }\n",
       "</style>\n",
       "<table border=\"1\" class=\"dataframe\">\n",
       "  <thead>\n",
       "    <tr style=\"text-align: right;\">\n",
       "      <th></th>\n",
       "      <th>beer_id</th>\n",
       "      <th>user_score</th>\n",
       "      <th>user_id</th>\n",
       "    </tr>\n",
       "  </thead>\n",
       "  <tbody>\n",
       "    <tr>\n",
       "      <th>0</th>\n",
       "      <td>18580</td>\n",
       "      <td>3.75</td>\n",
       "      <td>1</td>\n",
       "    </tr>\n",
       "    <tr>\n",
       "      <th>1</th>\n",
       "      <td>18570</td>\n",
       "      <td>4.25</td>\n",
       "      <td>1</td>\n",
       "    </tr>\n",
       "    <tr>\n",
       "      <th>2</th>\n",
       "      <td>18581</td>\n",
       "      <td>4.25</td>\n",
       "      <td>1</td>\n",
       "    </tr>\n",
       "    <tr>\n",
       "      <th>3</th>\n",
       "      <td>4200</td>\n",
       "      <td>4.25</td>\n",
       "      <td>1</td>\n",
       "    </tr>\n",
       "    <tr>\n",
       "      <th>4</th>\n",
       "      <td>1</td>\n",
       "      <td>4.50</td>\n",
       "      <td>1</td>\n",
       "    </tr>\n",
       "    <tr>\n",
       "      <th>...</th>\n",
       "      <td>...</td>\n",
       "      <td>...</td>\n",
       "      <td>...</td>\n",
       "    </tr>\n",
       "    <tr>\n",
       "      <th>4837387</th>\n",
       "      <td>3583</td>\n",
       "      <td>4.25</td>\n",
       "      <td>101906</td>\n",
       "    </tr>\n",
       "    <tr>\n",
       "      <th>4837388</th>\n",
       "      <td>14654</td>\n",
       "      <td>4.00</td>\n",
       "      <td>101906</td>\n",
       "    </tr>\n",
       "    <tr>\n",
       "      <th>4837389</th>\n",
       "      <td>1106</td>\n",
       "      <td>3.40</td>\n",
       "      <td>101906</td>\n",
       "    </tr>\n",
       "    <tr>\n",
       "      <th>4837390</th>\n",
       "      <td>11819</td>\n",
       "      <td>4.00</td>\n",
       "      <td>101906</td>\n",
       "    </tr>\n",
       "    <tr>\n",
       "      <th>4837391</th>\n",
       "      <td>3622</td>\n",
       "      <td>4.25</td>\n",
       "      <td>101906</td>\n",
       "    </tr>\n",
       "  </tbody>\n",
       "</table>\n",
       "<p>4837392 rows × 3 columns</p>\n",
       "</div>"
      ],
      "text/plain": [
       "         beer_id  user_score  user_id\n",
       "0          18580        3.75        1\n",
       "1          18570        4.25        1\n",
       "2          18581        4.25        1\n",
       "3           4200        4.25        1\n",
       "4              1        4.50        1\n",
       "...          ...         ...      ...\n",
       "4837387     3583        4.25   101906\n",
       "4837388    14654        4.00   101906\n",
       "4837389     1106        3.40   101906\n",
       "4837390    11819        4.00   101906\n",
       "4837391     3622        4.25   101906\n",
       "\n",
       "[4837392 rows x 3 columns]"
      ]
     },
     "execution_count": 4,
     "metadata": {},
     "output_type": "execute_result"
    }
   ],
   "source": [
    "df"
   ]
  },
  {
   "cell_type": "code",
   "execution_count": 5,
   "metadata": {},
   "outputs": [],
   "source": [
    "# pivot ratings into movie features\n",
    "df_beer_features = df.pivot(\n",
    "    index='beer_id',\n",
    "    columns='user_id',\n",
    "    values='user_score'\n",
    ").fillna(0)\n",
    "# convert dataframe of beer features to scipy sparse matrix\n",
    "mat_beer_features = csr_matrix(df_beer_features.values)"
   ]
  },
  {
   "cell_type": "code",
   "execution_count": 6,
   "metadata": {},
   "outputs": [],
   "source": [
    "# create mapper from beer name to index by building a list of beer names based on the beer IDs\n",
    "# found in the rows of df_beer_features\n",
    "beer_to_idx = {\n",
    "    beer: i for i, beer in \n",
    "    enumerate(list(beer_ids.loc[df_beer_features.index].beer_full))\n",
    "}"
   ]
  },
  {
   "cell_type": "code",
   "execution_count": 7,
   "metadata": {},
   "outputs": [],
   "source": [
    "# save beer to index dict to file\n",
    "with open('beer2idx.json', 'w') as fp:\n",
    "    json.dump(beer_to_idx, fp)"
   ]
  },
  {
   "cell_type": "code",
   "execution_count": 7,
   "metadata": {},
   "outputs": [
    {
     "data": {
      "text/plain": [
       "<1x52707 sparse matrix of type '<class 'numpy.float64'>'\n",
       "\twith 141 stored elements in Compressed Sparse Row format>"
      ]
     },
     "execution_count": 7,
     "metadata": {},
     "output_type": "execute_result"
    }
   ],
   "source": [
    "mat_beer_features[9997]"
   ]
  },
  {
   "cell_type": "code",
   "execution_count": 8,
   "metadata": {},
   "outputs": [],
   "source": [
    "# build predictor\n",
    "model_knn = NearestNeighbors(metric='cosine', algorithm='brute', n_neighbors=20, n_jobs=-1)"
   ]
  },
  {
   "cell_type": "code",
   "execution_count": 9,
   "metadata": {
    "scrolled": true
   },
   "outputs": [
    {
     "data": {
      "text/plain": [
       "NearestNeighbors(algorithm='brute', leaf_size=30, metric='cosine',\n",
       "                 metric_params=None, n_jobs=-1, n_neighbors=20, p=2,\n",
       "                 radius=1.0)"
      ]
     },
     "execution_count": 9,
     "metadata": {},
     "output_type": "execute_result"
    }
   ],
   "source": [
    "# fit predictor with sparse matrix\n",
    "model_knn.fit(mat_beer_features)"
   ]
  },
  {
   "cell_type": "code",
   "execution_count": 10,
   "metadata": {},
   "outputs": [],
   "source": [
    "def fuzzy_matching(mapper, fav_beer, verbose=True):\n",
    "    \"\"\"\n",
    "    return index loc (int) of the closest matching beer name in dataset compared to fav_beer.\n",
    "    If no match found, return None.\n",
    "    \n",
    "    Parameters\n",
    "    ----------    \n",
    "    mapper: dict, map beer name to beer index loc in data\n",
    "\n",
    "    fav_beer: str, name of user input beer\n",
    "    \n",
    "    verbose: bool, print log if True\n",
    "\n",
    "    Return\n",
    "    ------\n",
    "    beer ID of the closest match\n",
    "    \"\"\"\n",
    "    match_tuple = []\n",
    "    # get match\n",
    "    for name, idx in mapper.items():\n",
    "        ratio = fuzz.ratio(name.lower(), fav_beer.lower())\n",
    "        if ratio >= 60:\n",
    "            match_tuple.append((name, idx, ratio))\n",
    "    # sort\n",
    "    match_tuple = sorted(match_tuple, key=lambda x: x[2])[::-1]\n",
    "    if not match_tuple:\n",
    "        print('Oops! No match is found')\n",
    "        return\n",
    "    if verbose:\n",
    "        print('Found possible matches in our database: {0}\\n'.format([x[0] for x in match_tuple]))\n",
    "    return match_tuple[0][1]"
   ]
  },
  {
   "cell_type": "code",
   "execution_count": 11,
   "metadata": {},
   "outputs": [],
   "source": [
    "def make_recommendation(model_knn, data, mapper, fav_beer, n_recommendations):\n",
    "    \"\"\"\n",
    "    return top n similar beer recommendations based on user's input beer\n",
    "\n",
    "\n",
    "    Parameters\n",
    "    ----------\n",
    "    model_knn: sklearn model, knn model (untrained)\n",
    "\n",
    "    data: [beer,user] matrix\n",
    "\n",
    "    mapper: dict, map beer name to beer index loc in data\n",
    "\n",
    "    fav_beer: str, name of user input beer\n",
    "\n",
    "    n_recommendations: int, top n recommendations\n",
    "\n",
    "    Return\n",
    "    ------\n",
    "    list of top n similar beer recommendations\n",
    "    \"\"\"\n",
    "    # fit\n",
    "    model_knn.fit(data)\n",
    "    # get input movie index\n",
    "    print('You have input beer:', fav_beer)\n",
    "    idx = fuzzy_matching(mapper, fav_beer, verbose=True)\n",
    "    # inference\n",
    "    print('Recommendation system: start to making inference')\n",
    "    print('......\\n')\n",
    "    distances, indices = model_knn.kneighbors(data[idx], n_neighbors=n_recommendations+1)\n",
    "    # get list of raw idx of recommendations\n",
    "    raw_recommends = \\\n",
    "        sorted(list(zip(indices.squeeze().tolist(), distances.squeeze().tolist())), key=lambda x: x[1])\n",
    "    # get reverse mapper, idx to beer name\n",
    "    reverse_mapper = {v: k for k, v in mapper.items()}\n",
    "    # print recommendations\n",
    "    print('Recommendations for {}:'.format(fav_beer))\n",
    "    for i, (idx, dist) in enumerate(raw_recommends[1:]):\n",
    "        print('{0}: {1}, with distance of {2}'.format(i+1, reverse_mapper[idx], round(dist, 3)))"
   ]
  },
  {
   "cell_type": "code",
   "execution_count": 12,
   "metadata": {},
   "outputs": [
    {
     "name": "stdout",
     "output_type": "stream",
     "text": [
      "You have input beer: Boston Beer Works - Canal Street Bohemian Pilsner\n",
      "Found possible matches in our database: ['Boston Beer Works - Canal Street Boston Red', 'Boston Beer Works - Canal Street Watermelon Ale', 'Boston Beer Works - Canal Street Fenway Pale Ale', 'Boston Beer Works - Canal Street Back Bay IPA', 'Boston Beer Works - Canal Street Bunker Hill Blueberry Ale', 'Dock Street Brewery & Restaurant Dock Street Bohemian Pilsner', 'von Trapp Brewing Bohemian Pilsner']\n",
      "\n",
      "Recommendation system: start to making inference\n",
      "......\n",
      "\n",
      "Recommendations for Boston Beer Works - Canal Street Bohemian Pilsner:\n",
      "1: Boston Beer Works - Canal Street Bunker Hill Blueberry Ale, with distance of 0.655\n",
      "2: Boston Beer Works - Canal Street Fenway Pale Ale, with distance of 0.657\n",
      "3: Boston Beer Works - Canal Street Back Bay IPA, with distance of 0.739\n",
      "4: Boston Beer Works - Canal Street Watermelon Ale, with distance of 0.827\n",
      "5: Cape Ann Brewing Company Fisherman's Ale, with distance of 0.831\n",
      "6: Mayflower Brewing Company Daily Ration, with distance of 0.835\n",
      "7: Wachusett Brewing Company Wachusett Octoberfest Ale, with distance of 0.835\n",
      "8: Mayflower Brewing Company Mayflower Spring Hop, with distance of 0.845\n",
      "9: Blue Hills Brewery Blue Hills India Pale Ale, with distance of 0.848\n",
      "10: Mayflower Brewing Company Mayflower Golden Ale, with distance of 0.852\n"
     ]
    }
   ],
   "source": [
    "my_favorite = 'Boston Beer Works - Canal Street Bohemian Pilsner'\n",
    "\n",
    "make_recommendation(\n",
    "    model_knn=model_knn,\n",
    "    data=mat_beer_features,\n",
    "    fav_beer=my_favorite,\n",
    "    mapper=beer_to_idx,\n",
    "    n_recommendations=10)"
   ]
  },
  {
   "cell_type": "code",
   "execution_count": 19,
   "metadata": {},
   "outputs": [
    {
     "name": "stdout",
     "output_type": "stream",
     "text": [
      "You have input beer: heady topper\n",
      "Found possible matches in our database: ['The Alchemist Heady Topper']\n",
      "\n",
      "Recommendation system: start to making inference\n",
      "......\n",
      "\n",
      "Recommendations for heady topper:\n",
      "1: Russian River Brewing Company Pliny The Elder, with distance of 0.397\n",
      "2: Founders Brewing Company KBS (Kentucky Breakfast Stout), with distance of 0.405\n",
      "3: Goose Island Beer Co. Bourbon County Brand Stout, with distance of 0.409\n",
      "4: 3 Floyds Brewing Co. Zombie Dust, with distance of 0.422\n",
      "5: Goose Island Beer Co. Bourbon County Brand Coffee Stout, with distance of 0.423\n",
      "6: Lawson's Finest Liquids Sip Of Sunshine, with distance of 0.424\n",
      "7: Stone Brewing Enjoy By IPA, with distance of 0.444\n",
      "8: Maine Beer Company Lunch, with distance of 0.448\n",
      "9: Firestone Walker Brewing Co. Parabola, with distance of 0.454\n",
      "10: Ballast Point Brewing Company Sculpin, with distance of 0.456\n"
     ]
    }
   ],
   "source": [
    "my_favorite = 'heady topper'\n",
    "\n",
    "make_recommendation(\n",
    "    model_knn=model_knn,\n",
    "    data=mat_beer_features,\n",
    "    fav_beer=my_favorite,\n",
    "    mapper=beer_to_idx,\n",
    "    n_recommendations=10)"
   ]
  },
  {
   "cell_type": "code",
   "execution_count": 20,
   "metadata": {},
   "outputs": [
    {
     "name": "stdout",
     "output_type": "stream",
     "text": [
      "You have input beer: Lawsons Sip Of Sunshine\n",
      "Found possible matches in our database: [\"Lawson's Finest Liquids Sip Of Sunshine\", \"Lawson's Finest Liquids Double Sunshine\", \"Lawson's Finest Liquids Triple Sunshine\"]\n",
      "\n",
      "Recommendation system: start to making inference\n",
      "......\n",
      "\n",
      "Recommendations for Lawsons Sip Of Sunshine:\n",
      "1: The Alchemist Focal Banger, with distance of 0.352\n",
      "2: Tree House Brewing Company Julius, with distance of 0.365\n",
      "3: Tree House Brewing Company Green, with distance of 0.407\n",
      "4: The Alchemist Heady Topper, with distance of 0.424\n",
      "5: Tree House Brewing Company Haze, with distance of 0.425\n",
      "6: Tree House Brewing Company Alter Ego, with distance of 0.45\n",
      "7: Fiddlehead Brewing Company Second Fiddle, with distance of 0.456\n",
      "8: The Alchemist Crusher, with distance of 0.464\n",
      "9: Maine Beer Company Lunch, with distance of 0.464\n",
      "10: Trillium Brewing Company Congress Street IPA, with distance of 0.473\n"
     ]
    }
   ],
   "source": [
    "my_favorite = \"Lawsons Sip Of Sunshine\"\n",
    "\n",
    "make_recommendation(\n",
    "    model_knn=model_knn,\n",
    "    data=mat_beer_features,\n",
    "    fav_beer=my_favorite,\n",
    "    mapper=beer_to_idx,\n",
    "    n_recommendations=10)"
   ]
  },
  {
   "cell_type": "code",
   "execution_count": 21,
   "metadata": {},
   "outputs": [
    {
     "name": "stdout",
     "output_type": "stream",
     "text": [
      "You have input beer: troegs perpetual IPA\n",
      "Found possible matches in our database: ['Tröegs Brewing Company Perpetual IPA']\n",
      "\n",
      "Recommendation system: start to making inference\n",
      "......\n",
      "\n",
      "Recommendations for troegs perpetual IPA:\n",
      "1: Tröegs Brewing Company Nugget Nectar, with distance of 0.533\n",
      "2: Tröegs Brewing Company Hopback Amber Ale, with distance of 0.541\n",
      "3: Ithaca Beer Company Flower Power India Pale Ale, with distance of 0.548\n",
      "4: Tröegs Brewing Company Java Head Stout, with distance of 0.57\n",
      "5: Tröegs Brewing Company The Mad Elf, with distance of 0.574\n",
      "6: Tröegs Brewing Company Troegenator, with distance of 0.582\n",
      "7: Tröegs Brewing Company Hop Knife Harvest Ale, with distance of 0.584\n",
      "8: Victory Brewing Company - Downingtown DirtWolf, with distance of 0.591\n",
      "9: Victory Brewing Company - Downingtown HopDevil, with distance of 0.604\n",
      "10: Victory Brewing Company - Downingtown Hop Ranch, with distance of 0.607\n"
     ]
    }
   ],
   "source": [
    "my_favorite = \"troegs perpetual IPA\"\n",
    "\n",
    "make_recommendation(\n",
    "    model_knn=model_knn,\n",
    "    data=mat_beer_features,\n",
    "    fav_beer=my_favorite,\n",
    "    mapper=beer_to_idx,\n",
    "    n_recommendations=10)"
   ]
  },
  {
   "cell_type": "code",
   "execution_count": 22,
   "metadata": {},
   "outputs": [
    {
     "name": "stdout",
     "output_type": "stream",
     "text": [
      "You have input beer: Zero Gravity american flatbread Conehead IPA\n",
      "Found possible matches in our database: ['Zero Gravity Craft Brewery / American Flatbread Conehead IPA', 'Zero Gravity Craft Brewery / American Flatbread T.L.A. IPA', 'Zero Gravity Craft Brewery / American Flatbread Narconaut Black IPA', 'Zero Gravity Craft Brewery / American Flatbread Madonna', 'Zero Gravity Craft Brewery / American Flatbread Green State', 'Zero Gravity Craft Brewery / American Flatbread Little Wolf']\n",
      "\n",
      "Recommendation system: start to making inference\n",
      "......\n",
      "\n",
      "Recommendations for Zero Gravity american flatbread Conehead IPA:\n",
      "1: Fiddlehead Brewing Company Fiddlehead IPA, with distance of 0.591\n",
      "2: Lost Nation Brewing Gose, with distance of 0.608\n",
      "3: Lost Nation Brewing Mosaic IPA, with distance of 0.613\n",
      "4: Lawson's Finest Liquids Super Session #2, with distance of 0.624\n",
      "5: 14th Star Brewing Co. Tribute Double India Pale Ale, with distance of 0.634\n",
      "6: Lost Nation Brewing Lost Galaxy, with distance of 0.647\n",
      "7: Foley Brothers Brewing Fair Maiden Double IPA, with distance of 0.656\n",
      "8: 14th Star Brewing Co. Maple Breakfast Stout, with distance of 0.658\n",
      "9: Foley Brothers Brewing Prospect, with distance of 0.664\n",
      "10: Fiddlehead Brewing Company Second Fiddle, with distance of 0.666\n"
     ]
    }
   ],
   "source": [
    "my_favorite = \"Zero Gravity american flatbread Conehead IPA\"\n",
    "\n",
    "make_recommendation(\n",
    "    model_knn=model_knn,\n",
    "    data=mat_beer_features,\n",
    "    fav_beer=my_favorite,\n",
    "    mapper=beer_to_idx,\n",
    "    n_recommendations=10)"
   ]
  },
  {
   "cell_type": "code",
   "execution_count": null,
   "metadata": {},
   "outputs": [],
   "source": []
  }
 ],
 "metadata": {
  "kernelspec": {
   "display_name": "Python [conda env:root] *",
   "language": "python",
   "name": "conda-root-py"
  },
  "language_info": {
   "codemirror_mode": {
    "name": "ipython",
    "version": 3
   },
   "file_extension": ".py",
   "mimetype": "text/x-python",
   "name": "python",
   "nbconvert_exporter": "python",
   "pygments_lexer": "ipython3",
   "version": "3.7.4"
  }
 },
 "nbformat": 4,
 "nbformat_minor": 4
}
