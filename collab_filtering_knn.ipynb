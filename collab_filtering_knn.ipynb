{
 "cells": [
  {
   "cell_type": "markdown",
   "metadata": {},
   "source": [
    "#### About\n",
    "\n",
    "KNN collaborative filtering approach to recommending beers based on a sparse dataset.\n",
    "\n",
    "- num reviews: 4,837,392 (out of 5,487,730)\n",
    "- num beers: 9,999 (out of 24,542)\n",
    "- num users: 5,2707 (out of 101,574)\n",
    "\n",
    "**item based approach** will allow the computations to be done offline and then served, as the items change less than users.\n",
    "A user based approach would need to be updated and retrained too frequently.\n",
    "\n",
    "**euclidean dist vs cosine similarity:**\n",
    "- **cosine:**\n",
    "- looks at the angle between two vectors without considering magnitude\n",
    "- useful when comparing vectors of different length or dimensionality, helps balance the gap and prevent favoring samples based on number of dimensions rather than similarity between values.\n",
    "\n",
    "**choosing a nearest neighbor algorithm:**\n",
    "- **brute:** can be very slow for large datasets with high dimensionality\n",
    "- **ball tree:** \n",
    "- recursively divide data into nodes defined by centroid C and radius r, which reduces the candidates to compare to a new data point. Builds a tree to filter new data points into the most similar node (brute force is then done within node).\n",
    "- works well with sparse data that is highly intrinsic, but large portion of time is spent building the query tree relative to doing a single query. better when several queries are necessary (true for recommender!)\n",
    "- leaf_size == node size, very high leaf size results in quick construction but closer query time to brute force. very low leaf size results in lots of time spent filtering through tree.\n",
    "\n",
    "**choosing k:**\n",
    "- **brute:** largely unnaffected by choice of k\n",
    "- **ball tree:** can slow down with larger k partially due to internal queuing and increased difficulty pruning branches in query tree.\n",
    "\n",
    "This code follows the blog by Kevin Liao about recommenders found [here](https://github.com/KevinLiao159/MyDataSciencePortfolio/blob/master/movie_recommender/movie_recommendation_using_KNN.ipynb)"
   ]
  },
  {
   "cell_type": "code",
   "execution_count": 45,
   "metadata": {},
   "outputs": [],
   "source": [
    "import os\n",
    "import time\n",
    "\n",
    "\n",
    "import math\n",
    "from scipy.sparse import csr_matrix\n",
    "from sklearn.neighbors import NearestNeighbors\n",
    "import numpy as np\n",
    "import pandas as pd\n",
    "\n",
    "from fuzzywuzzy import fuzz\n",
    "import seaborn as sns\n",
    "import matplotlib.pyplot as plt\n",
    "%matplotlib inline"
   ]
  },
  {
   "cell_type": "code",
   "execution_count": 131,
   "metadata": {},
   "outputs": [],
   "source": [
    "# has beer names\n",
    "df_orig = pd.read_csv('./Beer_Data/reduced_data.csv')\n",
    "# totally numeric, no beer names\n",
    "df = pd.read_csv('./Beer_Data/reduced_data_X2.csv')\n",
    "# beer names to ID's\n",
    "beer_ids = pd.read_csv('./Beer_Data/beer_ids.csv')"
   ]
  },
  {
   "cell_type": "code",
   "execution_count": 132,
   "metadata": {},
   "outputs": [],
   "source": [
    "# drop index in beer_ids and build maps \n",
    "beer_ids = beer_ids.set_index('beer_id')\n",
    "id2beer = beer_ids.to_dict()['beer_full']\n",
    "beer2id = {name:beer_id for beer_id, name in beer2id.items()}"
   ]
  },
  {
   "cell_type": "code",
   "execution_count": 3,
   "metadata": {},
   "outputs": [
    {
     "data": {
      "text/html": [
       "<div>\n",
       "<style scoped>\n",
       "    .dataframe tbody tr th:only-of-type {\n",
       "        vertical-align: middle;\n",
       "    }\n",
       "\n",
       "    .dataframe tbody tr th {\n",
       "        vertical-align: top;\n",
       "    }\n",
       "\n",
       "    .dataframe thead th {\n",
       "        text-align: right;\n",
       "    }\n",
       "</style>\n",
       "<table border=\"1\" class=\"dataframe\">\n",
       "  <thead>\n",
       "    <tr style=\"text-align: right;\">\n",
       "      <th></th>\n",
       "      <th>beer_id</th>\n",
       "      <th>user_score</th>\n",
       "      <th>user_id</th>\n",
       "    </tr>\n",
       "  </thead>\n",
       "  <tbody>\n",
       "    <tr>\n",
       "      <th>0</th>\n",
       "      <td>18580</td>\n",
       "      <td>3.75</td>\n",
       "      <td>1</td>\n",
       "    </tr>\n",
       "    <tr>\n",
       "      <th>1</th>\n",
       "      <td>18570</td>\n",
       "      <td>4.25</td>\n",
       "      <td>1</td>\n",
       "    </tr>\n",
       "    <tr>\n",
       "      <th>2</th>\n",
       "      <td>18581</td>\n",
       "      <td>4.25</td>\n",
       "      <td>1</td>\n",
       "    </tr>\n",
       "    <tr>\n",
       "      <th>3</th>\n",
       "      <td>4200</td>\n",
       "      <td>4.25</td>\n",
       "      <td>1</td>\n",
       "    </tr>\n",
       "    <tr>\n",
       "      <th>4</th>\n",
       "      <td>1</td>\n",
       "      <td>4.50</td>\n",
       "      <td>1</td>\n",
       "    </tr>\n",
       "    <tr>\n",
       "      <th>...</th>\n",
       "      <td>...</td>\n",
       "      <td>...</td>\n",
       "      <td>...</td>\n",
       "    </tr>\n",
       "    <tr>\n",
       "      <th>4837387</th>\n",
       "      <td>3583</td>\n",
       "      <td>4.25</td>\n",
       "      <td>101906</td>\n",
       "    </tr>\n",
       "    <tr>\n",
       "      <th>4837388</th>\n",
       "      <td>14654</td>\n",
       "      <td>4.00</td>\n",
       "      <td>101906</td>\n",
       "    </tr>\n",
       "    <tr>\n",
       "      <th>4837389</th>\n",
       "      <td>1106</td>\n",
       "      <td>3.40</td>\n",
       "      <td>101906</td>\n",
       "    </tr>\n",
       "    <tr>\n",
       "      <th>4837390</th>\n",
       "      <td>11819</td>\n",
       "      <td>4.00</td>\n",
       "      <td>101906</td>\n",
       "    </tr>\n",
       "    <tr>\n",
       "      <th>4837391</th>\n",
       "      <td>3622</td>\n",
       "      <td>4.25</td>\n",
       "      <td>101906</td>\n",
       "    </tr>\n",
       "  </tbody>\n",
       "</table>\n",
       "<p>4837392 rows × 3 columns</p>\n",
       "</div>"
      ],
      "text/plain": [
       "         beer_id  user_score  user_id\n",
       "0          18580        3.75        1\n",
       "1          18570        4.25        1\n",
       "2          18581        4.25        1\n",
       "3           4200        4.25        1\n",
       "4              1        4.50        1\n",
       "...          ...         ...      ...\n",
       "4837387     3583        4.25   101906\n",
       "4837388    14654        4.00   101906\n",
       "4837389     1106        3.40   101906\n",
       "4837390    11819        4.00   101906\n",
       "4837391     3622        4.25   101906\n",
       "\n",
       "[4837392 rows x 3 columns]"
      ]
     },
     "execution_count": 3,
     "metadata": {},
     "output_type": "execute_result"
    }
   ],
   "source": [
    "df"
   ]
  },
  {
   "cell_type": "code",
   "execution_count": 6,
   "metadata": {},
   "outputs": [],
   "source": [
    "# pivot ratings into movie features\n",
    "df_beer_features = df.pivot(\n",
    "    index='beer_id',\n",
    "    columns='user_id',\n",
    "    values='user_score'\n",
    ").fillna(0)\n",
    "# convert dataframe of movie features to scipy sparse matrix\n",
    "mat_beer_features = csr_matrix(df_beer_features.values)"
   ]
  },
  {
   "cell_type": "code",
   "execution_count": 149,
   "metadata": {},
   "outputs": [],
   "source": [
    "# create mapper from beer name to index by building a list of beer names based on the beer IDs\n",
    "# found in the rows of df_beer_features\n",
    "beer_to_idx = {\n",
    "    beer: i for i, beer in \n",
    "    enumerate(list(beer_ids.loc[df_beer_features.index].beer_full))\n",
    "}"
   ]
  },
  {
   "cell_type": "code",
   "execution_count": 112,
   "metadata": {},
   "outputs": [
    {
     "data": {
      "text/plain": [
       "<1x52707 sparse matrix of type '<class 'numpy.float64'>'\n",
       "\twith 141 stored elements in Compressed Sparse Row format>"
      ]
     },
     "execution_count": 112,
     "metadata": {},
     "output_type": "execute_result"
    }
   ],
   "source": [
    "mat_beer_features[9997]"
   ]
  },
  {
   "cell_type": "code",
   "execution_count": 41,
   "metadata": {},
   "outputs": [],
   "source": [
    "# build predictor\n",
    "model_knn = NearestNeighbors(metric='cosine', algorithm='brute', n_neighbors=20, n_jobs=-1)"
   ]
  },
  {
   "cell_type": "code",
   "execution_count": 43,
   "metadata": {},
   "outputs": [
    {
     "data": {
      "text/plain": [
       "NearestNeighbors(algorithm='brute', leaf_size=30, metric='cosine',\n",
       "                 metric_params=None, n_jobs=-1, n_neighbors=20, p=2,\n",
       "                 radius=1.0)"
      ]
     },
     "execution_count": 43,
     "metadata": {},
     "output_type": "execute_result"
    }
   ],
   "source": [
    "# fit predictor with sparse matrix\n",
    "model_knn.fit(df_beer_features)"
   ]
  },
  {
   "cell_type": "code",
   "execution_count": 78,
   "metadata": {},
   "outputs": [],
   "source": [
    "def fuzzy_matching(mapper, fav_beer, verbose=True):\n",
    "    \"\"\"\n",
    "    return index loc (int) of the closest matching beer name in dataset compared to fav_beer.\n",
    "    If no match found, return None.\n",
    "    \n",
    "    Parameters\n",
    "    ----------    \n",
    "    mapper: dict, map beer name to beer index loc in data\n",
    "\n",
    "    fav_beer: str, name of user input beer\n",
    "    \n",
    "    verbose: bool, print log if True\n",
    "\n",
    "    Return\n",
    "    ------\n",
    "    beer ID of the closest match\n",
    "    \"\"\"\n",
    "    match_tuple = []\n",
    "    # get match\n",
    "    for name, idx in mapper.items():\n",
    "        ratio = fuzz.ratio(name.lower(), fav_beer.lower())\n",
    "        if ratio >= 60:\n",
    "            match_tuple.append((name, idx, ratio))\n",
    "    # sort\n",
    "    match_tuple = sorted(match_tuple, key=lambda x: x[2])[::-1]\n",
    "    if not match_tuple:\n",
    "        print('Oops! No match is found')\n",
    "        return\n",
    "    if verbose:\n",
    "        print('Found possible matches in our database: {0}\\n'.format([x[0] for x in match_tuple]))\n",
    "    return match_tuple[0][1]"
   ]
  },
  {
   "cell_type": "code",
   "execution_count": 146,
   "metadata": {},
   "outputs": [],
   "source": [
    "def make_recommendation(model_knn, data, mapper, fav_beer, n_recommendations):\n",
    "    \"\"\"\n",
    "    return top n similar beer recommendations based on user's input beer\n",
    "\n",
    "\n",
    "    Parameters\n",
    "    ----------\n",
    "    model_knn: sklearn model, knn model (untrained)\n",
    "\n",
    "    data: [beer,user] matrix\n",
    "\n",
    "    mapper: dict, map beer name to beer index loc in data\n",
    "\n",
    "    fav_beer: str, name of user input beer\n",
    "\n",
    "    n_recommendations: int, top n recommendations\n",
    "\n",
    "    Return\n",
    "    ------\n",
    "    list of top n similar beer recommendations\n",
    "    \"\"\"\n",
    "    # fit\n",
    "    model_knn.fit(data)\n",
    "    # get input movie index\n",
    "    print('You have input beer:', fav_beer)\n",
    "    idx = fuzzy_matching(mapper, fav_beer, verbose=True)\n",
    "    # inference\n",
    "    print('Recommendation system: start to making inference')\n",
    "    print('......\\n')\n",
    "    distances, indices = model_knn.kneighbors(data[idx], n_neighbors=n_recommendations+1)\n",
    "    # get list of raw idx of recommendations\n",
    "    raw_recommends = \\\n",
    "        sorted(list(zip(indices.squeeze().tolist(), distances.squeeze().tolist())), key=lambda x: x[1])[:0:-1]\n",
    "    # get reverse mapper, idx to beer name\n",
    "    reverse_mapper = {v: k for k, v in mapper.items()}\n",
    "    # print recommendations\n",
    "    print('Recommendations for {}:'.format(fav_beer))\n",
    "    for i, (idx, dist) in enumerate(raw_recommends):\n",
    "        print('{0}: {1}, with distance of {2}'.format(i+1, reverse_mapper[idx], dist))"
   ]
  },
  {
   "cell_type": "code",
   "execution_count": 70,
   "metadata": {},
   "outputs": [],
   "source": [
    "def make_recommendation(model_knn, data, mapper, fav_beer, n_recommendations):\n",
    "    \"\"\"\n",
    "    return top n similar beer recommendations based on user's input beer\n",
    "\n",
    "\n",
    "    Parameters\n",
    "    ----------\n",
    "    model_knn: sklearn model, knn model (untrained)\n",
    "\n",
    "    data: [beer,user] matrix\n",
    "\n",
    "    mapper: dict, map beer name to beer ID of the beer in data\n",
    "\n",
    "    fav_beer: str, name of user input beer\n",
    "\n",
    "    n_recommendations: int, top n recommendations\n",
    "\n",
    "    Return\n",
    "    ------\n",
    "    list of top n similar beer recommendations\n",
    "    \"\"\"\n",
    "    # fit\n",
    "    model_knn.fit(data)\n",
    "    # get input movie index\n",
    "    print('You have input beer:', fav_beer)\n",
    "    beer_id = fuzzy_matching(mapper, fav_beer, verbose=True)\n",
    "    idx = \n",
    "    # inference\n",
    "    print('Recommendation system: start to making inference')\n",
    "    print('......\\n')\n",
    "    distances, indices = model_knn.kneighbors(data[beer_id], n_neighbors=n_recommendations+1)\n",
    "    # get list of raw beer_id of recommendations\n",
    "    raw_recommends = \\\n",
    "        sorted(list(zip(indices.squeeze().tolist(), distances.squeeze().tolist())), key=lambda x: x[1])[:0:-1]\n",
    "    # get reverse mapper, beer ID to beer name\n",
    "    reverse_mapper = {v: k for k, v in mapper.items()}\n",
    "    # print recommendations\n",
    "    print('Recommendations for {}:'.format(fav_beer))\n",
    "    for i, (ind, dist) in enumerate(raw_recommends):\n",
    "        beer_id = df_beer_features.iloc[:,ind].name\n",
    "        print('{0}: {1}, with distance of {2}'.format(i+1, reverse_mapper[beer_id], dist))"
   ]
  },
  {
   "cell_type": "code",
   "execution_count": 150,
   "metadata": {},
   "outputs": [
    {
     "name": "stdout",
     "output_type": "stream",
     "text": [
      "You have input beer: Boston Beer Works - Canal Street Bohemian Pilsner\n",
      "Found possible matches in our database: ['Boston Beer Works - Canal Street Boston Red', 'Boston Beer Works - Canal Street Watermelon Ale', 'Boston Beer Works - Canal Street Fenway Pale Ale', 'Boston Beer Works - Canal Street Back Bay IPA', 'Boston Beer Works - Canal Street Bunker Hill Blueberry Ale', 'Dock Street Brewery & Restaurant Dock Street Bohemian Pilsner', 'von Trapp Brewing Bohemian Pilsner']\n",
      "\n",
      "Recommendation system: start to making inference\n",
      "......\n",
      "\n",
      "Recommendations for Boston Beer Works - Canal Street Bohemian Pilsner:\n",
      "1: Mayflower Brewing Company Mayflower Golden Ale, with distance of 0.851501566969167\n",
      "2: Blue Hills Brewery Blue Hills India Pale Ale, with distance of 0.8479799832362422\n",
      "3: Mayflower Brewing Company Mayflower Spring Hop, with distance of 0.8450238777690956\n",
      "4: Wachusett Brewing Company Wachusett Octoberfest Ale, with distance of 0.834590315801979\n",
      "5: Mayflower Brewing Company Daily Ration, with distance of 0.8345262475484306\n",
      "6: Cape Ann Brewing Company Fisherman's Ale, with distance of 0.8311068490751614\n",
      "7: Boston Beer Works - Canal Street Watermelon Ale, with distance of 0.8270449208997502\n",
      "8: Boston Beer Works - Canal Street Back Bay IPA, with distance of 0.7388109232719458\n",
      "9: Boston Beer Works - Canal Street Fenway Pale Ale, with distance of 0.6565312795133245\n",
      "10: Boston Beer Works - Canal Street Bunker Hill Blueberry Ale, with distance of 0.6553943645729977\n"
     ]
    }
   ],
   "source": [
    "my_favorite = 'Boston Beer Works - Canal Street Bohemian Pilsner'\n",
    "\n",
    "make_recommendation(\n",
    "    model_knn=model_knn,\n",
    "    data=mat_beer_features,\n",
    "    fav_beer=my_favorite,\n",
    "    mapper=beer_to_idx,\n",
    "    n_recommendations=10)"
   ]
  },
  {
   "cell_type": "code",
   "execution_count": 77,
   "metadata": {},
   "outputs": [
    {
     "name": "stdout",
     "output_type": "stream",
     "text": [
      "You have input beer: heady topper\n",
      "Found possible matches in our database: ['The Alchemist Heady Topper', 'Melvin Brewing / Thai Me Up Dready Copper', 'Tommyknocker Brewery Butthead Doppelbock', 'Chaos Mountain Brewing Mad Hopper', \"Fat Head's Brewery & Saloon Head Hunter\", 'Trillium Brewing Company Double Dry Hopped Fort Point Pale Ale', 'Trillium Brewing Company Double Dry Hopped Congress Street', 'Trillium Brewing Company Double Dry Hopped Sleeper Street', 'Trillium Brewing Company Double Dry Hopped Scaled', 'Boston Beer Company (Samuel Adams) Samuel Adams Wee Heavy (Imperial Series)', 'Indeed Brewing Company Day Tripper', 'Trillium Brewing Company Double Dry Hopped Summer Street IPA', 'Other Half Brewing Co. Double Dry Hopped Double Mosaic Dream', 'Lion Brewery, Inc. Lionshead Pilsner', 'Other Half Brewing Co. Double Dry Hopped All Citra Everything', 'Other Half Brewing Co. Double Dry Hopped Mylar Bags', 'The Olde Mecklenburg Brewery Copper', 'Other Half Brewing Co. Double Dry Hopped Double Mosaic Daydream', 'Trillium Brewing Company Double Dry Hopped Stillings Street IPA', 'Trillium Brewing Company Double Dry Hopped A Street IPA', 'Trillium Brewing Company Enigma Dry Hopped Fort Point', 'Fordham Brewing Company Copperhead Ale', 'Trillium Brewing Company Double Dry Hopped The Publick House', \"Fat Head's Brewery & Saloon Bone Head Imperial Red\", 'Trillium Brewing Company Free Rise - Citra Dry Hopped Saison', 'Other Half Brewing Co. Double Dry Hopped Double Citra Daydream', 'Other Half Brewing Co. Double Dry Hopped Broccoli', \"Moylan's Brewery Tipperary Pale Ale\", 'Yazoo Brewing Company Hop Perfect IPA', 'Other Half Brewing Co. Double Dry Hopped Forever Simcoe', 'Trillium Brewing Company Double Dry Hopped Farnsworth Street IPA', 'Other Half Brewing Co. Double Dry Hopped Cabbage', 'Epic Brewing Company Copper Cone', 'Other Half Brewing Co. Double Dry Hopped Stacks On Stacks', 'Trillium Brewing Company Motueka Dry Hopped Fort Point Ale', 'Other Half Brewing Co. Double Dry Hopped Mylar Daydream', 'Aslin Beer Company Double Dry Hopped Neutrino', 'Against The Grain Brewery & Smokehouse Against The Grain / Aviary & Fountainhead: There Gose The Neighborhood', 'Aslin Beer Company Double Dry Hopped Dunley Place', \"Hale's Ales Brewery & Pub Hale's Wee Heavy Winter Ale\", 'Other Half Brewing Co. Triple Cream Triple Dry Hopped Imperial Oat Cream IPA', 'Other Half Brewing Co. Double Dry Hopped Daydream In Green', 'SingleCut Beersmiths Double Dry Hopped Is This The Real Life?', 'Other Half Brewing Co. Double Dry Hopped Cheddar', 'Madison River Brewing Company Copper John Scotch Ale', 'GoodLife Brewing Company & Bier Hall Mountain Rescue Dry Hopped Pale Ale', 'Madison River Brewing Company Hopper Pale Ale', 'Other Half Brewing Co. Double Dry Hopped Suparillo', 'SingleCut Beersmiths Double Dry Hopped Bon Bon 2X TNT IIPA', 'Bend Brewing Company Hophead Imperial IPA', 'Other Half Brewing Co. Double Dry Hopped Hop Showers', 'Trillium Brewing Company Vic Secret Dry Hopped Fort Point', 'Other Half Brewing Co. Double Dry Hopped Green Down To The Socks', 'Trillium Brewing Company Citra Dry Hopped Sunshower', 'Tioga-Sequoia Brewing Company Double Dry Hopped General Sherman IPA', 'Other Half Brewing Co. Double Dry Hopped Oh...', 'Heavy Seas Beer AmeriCannon Double Dry Hopped American Pale Ale', 'Grimm Artisanal Ales Double Dry Hopped Forcefield', 'Other Half Brewing Co. Double Dry Hopped Green Power', 'Other Half Brewing Co. Double Dry Hopped All Green Everything', \"Other Half Brewing Co. Double Dry Hopped Ain't Nothing Nice\", 'Other Half Brewing Co. Triple Dry Hopped Triple Mosaic Daydream', 'Other Half Brewing Co. Double Dry Hopped Dream In Green', 'Other Half Brewing Co. Double Dry Hopped Citra Daydream', 'Trillium Brewing Company Double Dry Hopped Pittsburgh Street', 'Crooked Stave Artisan Beer Project Vieille Artisanal Saison Double Dry Hopped', 'Other Half Brewing Co. Double Dry Hopped Citra + Galaxy', 'Trillium Brewing Company Free Rise - Motueka Dry Hopped', 'Wolf Hills Brewing Company Troopers Alley IPA', 'Great Divide Brewing Company Heyday Modern IPA', 'Other Half Brewing Co. Double Dry Hopped True Green', \"Short's Brewing Company Chief Hopper\", 'BuckleDown Brewing Shady Aftermath', 'Mast Landing Brewing Company Double Dry Hopped Tell Tale Pale Ale', 'Holy Mountain Brewing Company The Gray Tower', 'Frost Beer Works Heavy Imperial Stout', 'Other Half Brewing Co. Double Dry Hopped Small Green Everything', 'Other Half Brewing Co. Double Dry Hopped Southernhopalistic', 'Other Half Brewing Co. Double Dry Hopped Cream of Broccoli', 'Other Half Brewing Co. Double Dry Hopped Powdered Cheese', 'Other Half Brewing Co. Double Dry Hopped Go With the Flow', 'The Answer Brewpub Extra Credit (Triple Dry Hopped)', \"O'Connor Brewing Co. Heavy Footer\", 'Upper Pass Beer Company First Drop - Double Dry Hopped', 'Yalobusha Brewing Company Copperhead Amber Ale', 'Aslin Beer Company Double Dry Hopped Orange Starfish', 'Kuhnhenn Brewing Company Strawberry Panty Dropper', 'Grimm Artisanal Ales Double Dry Hopped Lumen', 'Midland Brewing Company Copper Harbor Ale', 'Brewery Vivant Cherry Doppelbock', 'The Answer Brewpub Hard In The Paint (Triple Dry Hopped)', 'Other Half Brewing Co. Double Dry Hopped Motueka + Galaxy', 'Old Nation Brewing Co. Double Dry Hopped M-43', 'Shipyard Brewing Company Steady Hoppy Pale Ale', 'The Cambridge House Brewpub Cambridge House Copper Hill Kölsch', 'Backwoods Brewing Company Copperline Ale', \"Fat Head's Brewery & Saloon Imperial Head Hunter\", 'Grimm Artisanal Ales Double Dry Hopped Afterimage', 'Perennial Artisan Ales Dry Hopped Foeder Saison', 'The Answer Brewpub Grand Larceny (Triple Dry Hopped)', 'The Answer Brewpub Mouth Hug (Triple Dry Hopped)', 'The Answer Brewpub All The Action (Quadruple Dry Hopped)', 'Crooked Stave Artisan Beer Project Vieille Dry Hopped Motueka', 'Mt. Carmel Brewing Company Copper Ale', \"Hop'n Moose Brewing Company Head Doctor\", 'Skagway Brewing Company Blue Top Porter', 'Ballast Point Brewing Company Copper Ale Nitro', 'Bricktown Brewery Copperhead Amber Ale', 'Other Half Brewing Co. Double Dry Hopped All Enigma Everything', 'Lagunitas Brewing Company Lagunitas Extra Double Dry Hopped Pale Ale', 'Tin Man Brewing Company Herald Imperial Pumpkin Ale', 'Other Half Brewing Co. Double Dry Hopped Oh... Dream', 'Other Half Brewing Co. Double Dry Hopped All Nelson Everything', 'Tilted Barn Brewery Double Dry Hopped The Chosen One', 'Other Half Brewing Co. Double Dry Hopped Galaxy IPA', '450 North Brewing Company Copperhead Amber Ale', 'South County Brewing Co. AmericAle Dry Hopped Amber Ale', 'Trillium Brewing Company Citra Dry Hopped Trillium', 'Great River Brewery Copper Ale', 'Other Half Brewing Co. Double Dry Hopped All Citra Everything - Experimental Version', 'The Answer Brewpub Larceny (Triple Dry Hopped)', 'Clown Shoes Galactica - Double Dry Hopped', 'The Answer Brewpub Petty Larceny (Triple Dry Hopped)', 'Pizza Port Solana Beach Get To The Hopper', 'Trillium Brewing Company Motueka Dry Hopped Trillium', \"Sebago Brewing Company Frye's Leap IPA - Citra Dry Hopped\", 'Trillium Brewing Company Permutation Series #21: Saaz Dry Hopped Lager', 'Altamont Beer Works Hella Hoppy', \"Beer'd Brewing Co. Already Taken\", 'Grimm Artisanal Ales Bees In The Trappe', 'Steel String Brewery Shady Grove']\n",
      "\n",
      "Recommendation system: start to making inference\n",
      "......\n",
      "\n"
     ]
    },
    {
     "ename": "IndexError",
     "evalue": "row index (24537) out of range",
     "output_type": "error",
     "traceback": [
      "\u001b[1;31m---------------------------------------------------------------------------\u001b[0m",
      "\u001b[1;31mIndexError\u001b[0m                                Traceback (most recent call last)",
      "\u001b[1;32m<ipython-input-77-37785a0e599a>\u001b[0m in \u001b[0;36m<module>\u001b[1;34m\u001b[0m\n\u001b[0;32m      6\u001b[0m     \u001b[0mfav_beer\u001b[0m\u001b[1;33m=\u001b[0m\u001b[0mmy_favorite\u001b[0m\u001b[1;33m,\u001b[0m\u001b[1;33m\u001b[0m\u001b[1;33m\u001b[0m\u001b[0m\n\u001b[0;32m      7\u001b[0m     \u001b[0mmapper\u001b[0m\u001b[1;33m=\u001b[0m\u001b[0mmapper\u001b[0m\u001b[1;33m,\u001b[0m\u001b[1;33m\u001b[0m\u001b[1;33m\u001b[0m\u001b[0m\n\u001b[1;32m----> 8\u001b[1;33m     n_recommendations=10)\n\u001b[0m",
      "\u001b[1;32m<ipython-input-70-dbcaae050565>\u001b[0m in \u001b[0;36mmake_recommendation\u001b[1;34m(model_knn, data, mapper, fav_beer, n_recommendations)\u001b[0m\n\u001b[0;32m     28\u001b[0m     \u001b[0mprint\u001b[0m\u001b[1;33m(\u001b[0m\u001b[1;34m'Recommendation system: start to making inference'\u001b[0m\u001b[1;33m)\u001b[0m\u001b[1;33m\u001b[0m\u001b[1;33m\u001b[0m\u001b[0m\n\u001b[0;32m     29\u001b[0m     \u001b[0mprint\u001b[0m\u001b[1;33m(\u001b[0m\u001b[1;34m'......\\n'\u001b[0m\u001b[1;33m)\u001b[0m\u001b[1;33m\u001b[0m\u001b[1;33m\u001b[0m\u001b[0m\n\u001b[1;32m---> 30\u001b[1;33m     \u001b[0mdistances\u001b[0m\u001b[1;33m,\u001b[0m \u001b[0mindices\u001b[0m \u001b[1;33m=\u001b[0m \u001b[0mmodel_knn\u001b[0m\u001b[1;33m.\u001b[0m\u001b[0mkneighbors\u001b[0m\u001b[1;33m(\u001b[0m\u001b[0mdata\u001b[0m\u001b[1;33m[\u001b[0m\u001b[0mbeer_id\u001b[0m\u001b[1;33m]\u001b[0m\u001b[1;33m,\u001b[0m \u001b[0mn_neighbors\u001b[0m\u001b[1;33m=\u001b[0m\u001b[0mn_recommendations\u001b[0m\u001b[1;33m+\u001b[0m\u001b[1;36m1\u001b[0m\u001b[1;33m)\u001b[0m\u001b[1;33m\u001b[0m\u001b[1;33m\u001b[0m\u001b[0m\n\u001b[0m\u001b[0;32m     31\u001b[0m     \u001b[1;31m# get list of raw beer_id of recommendations\u001b[0m\u001b[1;33m\u001b[0m\u001b[1;33m\u001b[0m\u001b[1;33m\u001b[0m\u001b[0m\n\u001b[0;32m     32\u001b[0m     \u001b[0mraw_recommends\u001b[0m \u001b[1;33m=\u001b[0m\u001b[0;31m \u001b[0m\u001b[0;31m\\\u001b[0m\u001b[1;33m\u001b[0m\u001b[1;33m\u001b[0m\u001b[0m\n",
      "\u001b[1;32m~\\Anaconda3\\lib\\site-packages\\scipy\\sparse\\_index.py\u001b[0m in \u001b[0;36m__getitem__\u001b[1;34m(self, key)\u001b[0m\n\u001b[0;32m     33\u001b[0m     \"\"\"\n\u001b[0;32m     34\u001b[0m     \u001b[1;32mdef\u001b[0m \u001b[0m__getitem__\u001b[0m\u001b[1;33m(\u001b[0m\u001b[0mself\u001b[0m\u001b[1;33m,\u001b[0m \u001b[0mkey\u001b[0m\u001b[1;33m)\u001b[0m\u001b[1;33m:\u001b[0m\u001b[1;33m\u001b[0m\u001b[1;33m\u001b[0m\u001b[0m\n\u001b[1;32m---> 35\u001b[1;33m         \u001b[0mrow\u001b[0m\u001b[1;33m,\u001b[0m \u001b[0mcol\u001b[0m \u001b[1;33m=\u001b[0m \u001b[0mself\u001b[0m\u001b[1;33m.\u001b[0m\u001b[0m_validate_indices\u001b[0m\u001b[1;33m(\u001b[0m\u001b[0mkey\u001b[0m\u001b[1;33m)\u001b[0m\u001b[1;33m\u001b[0m\u001b[1;33m\u001b[0m\u001b[0m\n\u001b[0m\u001b[0;32m     36\u001b[0m         \u001b[1;31m# Dispatch to specialized methods.\u001b[0m\u001b[1;33m\u001b[0m\u001b[1;33m\u001b[0m\u001b[1;33m\u001b[0m\u001b[0m\n\u001b[0;32m     37\u001b[0m         \u001b[1;32mif\u001b[0m \u001b[0misinstance\u001b[0m\u001b[1;33m(\u001b[0m\u001b[0mrow\u001b[0m\u001b[1;33m,\u001b[0m \u001b[0mINT_TYPES\u001b[0m\u001b[1;33m)\u001b[0m\u001b[1;33m:\u001b[0m\u001b[1;33m\u001b[0m\u001b[1;33m\u001b[0m\u001b[0m\n",
      "\u001b[1;32m~\\Anaconda3\\lib\\site-packages\\scipy\\sparse\\_index.py\u001b[0m in \u001b[0;36m_validate_indices\u001b[1;34m(self, key)\u001b[0m\n\u001b[0;32m    133\u001b[0m             \u001b[0mrow\u001b[0m \u001b[1;33m=\u001b[0m \u001b[0mint\u001b[0m\u001b[1;33m(\u001b[0m\u001b[0mrow\u001b[0m\u001b[1;33m)\u001b[0m\u001b[1;33m\u001b[0m\u001b[1;33m\u001b[0m\u001b[0m\n\u001b[0;32m    134\u001b[0m             \u001b[1;32mif\u001b[0m \u001b[0mrow\u001b[0m \u001b[1;33m<\u001b[0m \u001b[1;33m-\u001b[0m\u001b[0mM\u001b[0m \u001b[1;32mor\u001b[0m \u001b[0mrow\u001b[0m \u001b[1;33m>=\u001b[0m \u001b[0mM\u001b[0m\u001b[1;33m:\u001b[0m\u001b[1;33m\u001b[0m\u001b[1;33m\u001b[0m\u001b[0m\n\u001b[1;32m--> 135\u001b[1;33m                 \u001b[1;32mraise\u001b[0m \u001b[0mIndexError\u001b[0m\u001b[1;33m(\u001b[0m\u001b[1;34m'row index (%d) out of range'\u001b[0m \u001b[1;33m%\u001b[0m \u001b[0mrow\u001b[0m\u001b[1;33m)\u001b[0m\u001b[1;33m\u001b[0m\u001b[1;33m\u001b[0m\u001b[0m\n\u001b[0m\u001b[0;32m    136\u001b[0m             \u001b[1;32mif\u001b[0m \u001b[0mrow\u001b[0m \u001b[1;33m<\u001b[0m \u001b[1;36m0\u001b[0m\u001b[1;33m:\u001b[0m\u001b[1;33m\u001b[0m\u001b[1;33m\u001b[0m\u001b[0m\n\u001b[0;32m    137\u001b[0m                 \u001b[0mrow\u001b[0m \u001b[1;33m+=\u001b[0m \u001b[0mM\u001b[0m\u001b[1;33m\u001b[0m\u001b[1;33m\u001b[0m\u001b[0m\n",
      "\u001b[1;31mIndexError\u001b[0m: row index (24537) out of range"
     ]
    }
   ],
   "source": [
    "my_favorite = 'heady topper'\n",
    "\n",
    "make_recommendation(\n",
    "    model_knn=model_knn,\n",
    "    data=mat_beer_features,\n",
    "    fav_beer=my_favorite,\n",
    "    mapper=beer2id,\n",
    "    n_recommendations=10)"
   ]
  },
  {
   "cell_type": "code",
   "execution_count": 88,
   "metadata": {},
   "outputs": [
    {
     "data": {
      "text/plain": [
       "'The Alchemist Heady Topper'"
      ]
     },
     "execution_count": 88,
     "metadata": {},
     "output_type": "execute_result"
    }
   ],
   "source": [
    "id2beer[24537]"
   ]
  },
  {
   "cell_type": "code",
   "execution_count": null,
   "metadata": {},
   "outputs": [],
   "source": []
  }
 ],
 "metadata": {
  "kernelspec": {
   "display_name": "Python [conda env:root] *",
   "language": "python",
   "name": "conda-root-py"
  },
  "language_info": {
   "codemirror_mode": {
    "name": "ipython",
    "version": 3
   },
   "file_extension": ".py",
   "mimetype": "text/x-python",
   "name": "python",
   "nbconvert_exporter": "python",
   "pygments_lexer": "ipython3",
   "version": "3.7.4"
  }
 },
 "nbformat": 4,
 "nbformat_minor": 4
}
