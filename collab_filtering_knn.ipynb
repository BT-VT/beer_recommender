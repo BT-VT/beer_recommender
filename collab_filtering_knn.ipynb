{
 "cells": [
  {
   "cell_type": "markdown",
   "metadata": {},
   "source": [
    "#### About\n",
    "\n",
    "KNN collaborative filtering approach to recommending beers based on a sparse dataset.\n",
    "\n",
    "- num reviews: 4,837,392 (out of 5,487,730)\n",
    "- num beers: 9,999 (out of 24,542)\n",
    "- num users: 5,2707 (out of 101,574)\n",
    "\n",
    "**item based approach** will allow the computations to be done offline and then served, as the items change less than users.\n",
    "A user based approach would need to be updated and retrained too frequently.\n",
    "\n",
    "**euclidean dist vs cosine similarity:**\n",
    "- **cosine:**\n",
    "- looks at the angle between two vectors without considering magnitude\n",
    "- useful when comparing vectors of different length or dimensionality, helps balance the gap and prevent favoring samples based on number of dimensions rather than similarity between values.\n",
    "\n",
    "**choosing a nearest neighbor algorithm:**\n",
    "- **brute:** can be very slow for large datasets with high dimensionality\n",
    "- **ball tree:** \n",
    "- recursively divide data into nodes defined by centroid C and radius r, which reduces the candidates to compare to a new data point. Builds a tree to filter new data points into the most similar node (brute force is then done within node).\n",
    "- works well with sparse data that is highly intrinsic, but large portion of time is spent building the query tree relative to doing a single query. better when several queries are necessary (true for recommender!)\n",
    "- leaf_size == node size, very high leaf size results in quick construction but closer query time to brute force. very low leaf size results in lots of time spent filtering through tree.\n",
    "\n",
    "**choosing k:**\n",
    "- **brute:** largely unnaffected by choice of k\n",
    "- **ball tree:** can slow down with larger k partially due to internal queuing and increased difficulty pruning branches in query tree.\n",
    "\n",
    "This code follows the blog by Kevin Liao about recommenders found [here](https://github.com/KevinLiao159/MyDataSciencePortfolio/blob/master/movie_recommender/movie_recommendation_using_KNN.ipynb)"
   ]
  },
  {
   "cell_type": "code",
   "execution_count": 45,
   "metadata": {},
   "outputs": [],
   "source": [
    "import os\n",
    "import time\n",
    "\n",
    "\n",
    "import math\n",
    "from scipy.sparse import csr_matrix\n",
    "from sklearn.neighbors import NearestNeighbors\n",
    "import numpy as np\n",
    "import pandas as pd\n",
    "\n",
    "from fuzzywuzzy import fuzz\n",
    "import seaborn as sns\n",
    "import matplotlib.pyplot as plt\n",
    "%matplotlib inline"
   ]
  },
  {
   "cell_type": "code",
   "execution_count": 131,
   "metadata": {},
   "outputs": [],
   "source": [
    "# has beer names\n",
    "df_orig = pd.read_csv('./Beer_Data/reduced_data.csv')\n",
    "# totally numeric, no beer names\n",
    "df = pd.read_csv('./Beer_Data/reduced_data_X2.csv')\n",
    "# beer names to ID's\n",
    "beer_ids = pd.read_csv('./Beer_Data/beer_ids.csv')"
   ]
  },
  {
   "cell_type": "code",
   "execution_count": 132,
   "metadata": {},
   "outputs": [],
   "source": [
    "# drop index in beer_ids and build maps \n",
    "beer_ids = beer_ids.set_index('beer_id')\n",
    "id2beer = beer_ids.to_dict()['beer_full']\n",
    "beer2id = {name:beer_id for beer_id, name in beer2id.items()}"
   ]
  },
  {
   "cell_type": "code",
   "execution_count": 3,
   "metadata": {},
   "outputs": [
    {
     "data": {
      "text/html": [
       "<div>\n",
       "<style scoped>\n",
       "    .dataframe tbody tr th:only-of-type {\n",
       "        vertical-align: middle;\n",
       "    }\n",
       "\n",
       "    .dataframe tbody tr th {\n",
       "        vertical-align: top;\n",
       "    }\n",
       "\n",
       "    .dataframe thead th {\n",
       "        text-align: right;\n",
       "    }\n",
       "</style>\n",
       "<table border=\"1\" class=\"dataframe\">\n",
       "  <thead>\n",
       "    <tr style=\"text-align: right;\">\n",
       "      <th></th>\n",
       "      <th>beer_id</th>\n",
       "      <th>user_score</th>\n",
       "      <th>user_id</th>\n",
       "    </tr>\n",
       "  </thead>\n",
       "  <tbody>\n",
       "    <tr>\n",
       "      <th>0</th>\n",
       "      <td>18580</td>\n",
       "      <td>3.75</td>\n",
       "      <td>1</td>\n",
       "    </tr>\n",
       "    <tr>\n",
       "      <th>1</th>\n",
       "      <td>18570</td>\n",
       "      <td>4.25</td>\n",
       "      <td>1</td>\n",
       "    </tr>\n",
       "    <tr>\n",
       "      <th>2</th>\n",
       "      <td>18581</td>\n",
       "      <td>4.25</td>\n",
       "      <td>1</td>\n",
       "    </tr>\n",
       "    <tr>\n",
       "      <th>3</th>\n",
       "      <td>4200</td>\n",
       "      <td>4.25</td>\n",
       "      <td>1</td>\n",
       "    </tr>\n",
       "    <tr>\n",
       "      <th>4</th>\n",
       "      <td>1</td>\n",
       "      <td>4.50</td>\n",
       "      <td>1</td>\n",
       "    </tr>\n",
       "    <tr>\n",
       "      <th>...</th>\n",
       "      <td>...</td>\n",
       "      <td>...</td>\n",
       "      <td>...</td>\n",
       "    </tr>\n",
       "    <tr>\n",
       "      <th>4837387</th>\n",
       "      <td>3583</td>\n",
       "      <td>4.25</td>\n",
       "      <td>101906</td>\n",
       "    </tr>\n",
       "    <tr>\n",
       "      <th>4837388</th>\n",
       "      <td>14654</td>\n",
       "      <td>4.00</td>\n",
       "      <td>101906</td>\n",
       "    </tr>\n",
       "    <tr>\n",
       "      <th>4837389</th>\n",
       "      <td>1106</td>\n",
       "      <td>3.40</td>\n",
       "      <td>101906</td>\n",
       "    </tr>\n",
       "    <tr>\n",
       "      <th>4837390</th>\n",
       "      <td>11819</td>\n",
       "      <td>4.00</td>\n",
       "      <td>101906</td>\n",
       "    </tr>\n",
       "    <tr>\n",
       "      <th>4837391</th>\n",
       "      <td>3622</td>\n",
       "      <td>4.25</td>\n",
       "      <td>101906</td>\n",
       "    </tr>\n",
       "  </tbody>\n",
       "</table>\n",
       "<p>4837392 rows × 3 columns</p>\n",
       "</div>"
      ],
      "text/plain": [
       "         beer_id  user_score  user_id\n",
       "0          18580        3.75        1\n",
       "1          18570        4.25        1\n",
       "2          18581        4.25        1\n",
       "3           4200        4.25        1\n",
       "4              1        4.50        1\n",
       "...          ...         ...      ...\n",
       "4837387     3583        4.25   101906\n",
       "4837388    14654        4.00   101906\n",
       "4837389     1106        3.40   101906\n",
       "4837390    11819        4.00   101906\n",
       "4837391     3622        4.25   101906\n",
       "\n",
       "[4837392 rows x 3 columns]"
      ]
     },
     "execution_count": 3,
     "metadata": {},
     "output_type": "execute_result"
    }
   ],
   "source": [
    "df"
   ]
  },
  {
   "cell_type": "code",
   "execution_count": 6,
   "metadata": {},
   "outputs": [],
   "source": [
    "# pivot ratings into movie features\n",
    "df_beer_features = df.pivot(\n",
    "    index='beer_id',\n",
    "    columns='user_id',\n",
    "    values='user_score'\n",
    ").fillna(0)\n",
    "# convert dataframe of movie features to scipy sparse matrix\n",
    "mat_beer_features = csr_matrix(df_beer_features.values)"
   ]
  },
  {
   "cell_type": "code",
   "execution_count": 149,
   "metadata": {},
   "outputs": [],
   "source": [
    "# create mapper from beer name to index by building a list of beer names based on the beer IDs\n",
    "# found in the rows of df_beer_features\n",
    "beer_to_idx = {\n",
    "    beer: i for i, beer in \n",
    "    enumerate(list(beer_ids.loc[df_beer_features.index].beer_full))\n",
    "}"
   ]
  },
  {
   "cell_type": "code",
   "execution_count": 112,
   "metadata": {},
   "outputs": [
    {
     "data": {
      "text/plain": [
       "<1x52707 sparse matrix of type '<class 'numpy.float64'>'\n",
       "\twith 141 stored elements in Compressed Sparse Row format>"
      ]
     },
     "execution_count": 112,
     "metadata": {},
     "output_type": "execute_result"
    }
   ],
   "source": [
    "mat_beer_features[9997]"
   ]
  },
  {
   "cell_type": "code",
   "execution_count": 41,
   "metadata": {},
   "outputs": [],
   "source": [
    "# build predictor\n",
    "model_knn = NearestNeighbors(metric='cosine', algorithm='brute', n_neighbors=20, n_jobs=-1)"
   ]
  },
  {
   "cell_type": "code",
   "execution_count": 43,
   "metadata": {},
   "outputs": [
    {
     "data": {
      "text/plain": [
       "NearestNeighbors(algorithm='brute', leaf_size=30, metric='cosine',\n",
       "                 metric_params=None, n_jobs=-1, n_neighbors=20, p=2,\n",
       "                 radius=1.0)"
      ]
     },
     "execution_count": 43,
     "metadata": {},
     "output_type": "execute_result"
    }
   ],
   "source": [
    "# fit predictor with sparse matrix\n",
    "model_knn.fit(df_beer_features)"
   ]
  },
  {
   "cell_type": "code",
   "execution_count": 174,
   "metadata": {},
   "outputs": [],
   "source": [
    "def fuzzy_matching(mapper, fav_beer, verbose=True):\n",
    "    \"\"\"\n",
    "    return index loc (int) of the closest matching beer name in dataset compared to fav_beer.\n",
    "    If no match found, return None.\n",
    "    \n",
    "    Parameters\n",
    "    ----------    \n",
    "    mapper: dict, map beer name to beer index loc in data\n",
    "\n",
    "    fav_beer: str, name of user input beer\n",
    "    \n",
    "    verbose: bool, print log if True\n",
    "\n",
    "    Return\n",
    "    ------\n",
    "    beer ID of the closest match\n",
    "    \"\"\"\n",
    "    match_tuple = []\n",
    "    # get match\n",
    "    for name, idx in mapper.items():\n",
    "        ratio = fuzz.ratio(name.lower(), fav_beer.lower())\n",
    "        if ratio >= 60:\n",
    "            match_tuple.append((name, idx, ratio))\n",
    "    # sort\n",
    "    match_tuple = sorted(match_tuple, key=lambda x: x[2])[::-1]\n",
    "    if not match_tuple:\n",
    "        print('Oops! No match is found')\n",
    "        return\n",
    "    if verbose:\n",
    "        print('Found possible matches in our database: {0}\\n'.format([x[0] for x in match_tuple]))\n",
    "    return match_tuple[0][1]"
   ]
  },
  {
   "cell_type": "code",
   "execution_count": 146,
   "metadata": {},
   "outputs": [],
   "source": [
    "def make_recommendation(model_knn, data, mapper, fav_beer, n_recommendations):\n",
    "    \"\"\"\n",
    "    return top n similar beer recommendations based on user's input beer\n",
    "\n",
    "\n",
    "    Parameters\n",
    "    ----------\n",
    "    model_knn: sklearn model, knn model (untrained)\n",
    "\n",
    "    data: [beer,user] matrix\n",
    "\n",
    "    mapper: dict, map beer name to beer index loc in data\n",
    "\n",
    "    fav_beer: str, name of user input beer\n",
    "\n",
    "    n_recommendations: int, top n recommendations\n",
    "\n",
    "    Return\n",
    "    ------\n",
    "    list of top n similar beer recommendations\n",
    "    \"\"\"\n",
    "    # fit\n",
    "    model_knn.fit(data)\n",
    "    # get input movie index\n",
    "    print('You have input beer:', fav_beer)\n",
    "    idx = fuzzy_matching(mapper, fav_beer, verbose=True)\n",
    "    # inference\n",
    "    print('Recommendation system: start to making inference')\n",
    "    print('......\\n')\n",
    "    distances, indices = model_knn.kneighbors(data[idx], n_neighbors=n_recommendations+1)\n",
    "    # get list of raw idx of recommendations\n",
    "    raw_recommends = \\\n",
    "        sorted(list(zip(indices.squeeze().tolist(), distances.squeeze().tolist())), key=lambda x: x[1])[:0:-1]\n",
    "    # get reverse mapper, idx to beer name\n",
    "    reverse_mapper = {v: k for k, v in mapper.items()}\n",
    "    # print recommendations\n",
    "    print('Recommendations for {}:'.format(fav_beer))\n",
    "    for i, (idx, dist) in enumerate(raw_recommends):\n",
    "        print('{0}: {1}, with distance of {2}'.format(i+1, reverse_mapper[idx], dist))"
   ]
  },
  {
   "cell_type": "code",
   "execution_count": 150,
   "metadata": {},
   "outputs": [
    {
     "name": "stdout",
     "output_type": "stream",
     "text": [
      "You have input beer: Boston Beer Works - Canal Street Bohemian Pilsner\n",
      "Found possible matches in our database: ['Boston Beer Works - Canal Street Boston Red', 'Boston Beer Works - Canal Street Watermelon Ale', 'Boston Beer Works - Canal Street Fenway Pale Ale', 'Boston Beer Works - Canal Street Back Bay IPA', 'Boston Beer Works - Canal Street Bunker Hill Blueberry Ale', 'Dock Street Brewery & Restaurant Dock Street Bohemian Pilsner', 'von Trapp Brewing Bohemian Pilsner']\n",
      "\n",
      "Recommendation system: start to making inference\n",
      "......\n",
      "\n",
      "Recommendations for Boston Beer Works - Canal Street Bohemian Pilsner:\n",
      "1: Mayflower Brewing Company Mayflower Golden Ale, with distance of 0.851501566969167\n",
      "2: Blue Hills Brewery Blue Hills India Pale Ale, with distance of 0.8479799832362422\n",
      "3: Mayflower Brewing Company Mayflower Spring Hop, with distance of 0.8450238777690956\n",
      "4: Wachusett Brewing Company Wachusett Octoberfest Ale, with distance of 0.834590315801979\n",
      "5: Mayflower Brewing Company Daily Ration, with distance of 0.8345262475484306\n",
      "6: Cape Ann Brewing Company Fisherman's Ale, with distance of 0.8311068490751614\n",
      "7: Boston Beer Works - Canal Street Watermelon Ale, with distance of 0.8270449208997502\n",
      "8: Boston Beer Works - Canal Street Back Bay IPA, with distance of 0.7388109232719458\n",
      "9: Boston Beer Works - Canal Street Fenway Pale Ale, with distance of 0.6565312795133245\n",
      "10: Boston Beer Works - Canal Street Bunker Hill Blueberry Ale, with distance of 0.6553943645729977\n"
     ]
    }
   ],
   "source": [
    "my_favorite = 'Boston Beer Works - Canal Street Bohemian Pilsner'\n",
    "\n",
    "make_recommendation(\n",
    "    model_knn=model_knn,\n",
    "    data=mat_beer_features,\n",
    "    fav_beer=my_favorite,\n",
    "    mapper=beer_to_idx,\n",
    "    n_recommendations=10)"
   ]
  },
  {
   "cell_type": "code",
   "execution_count": 218,
   "metadata": {},
   "outputs": [
    {
     "name": "stdout",
     "output_type": "stream",
     "text": [
      "You have input beer: heady topper\n",
      "Found possible matches in our database: ['The Alchemist Heady Topper']\n",
      "\n",
      "Recommendation system: start to making inference\n",
      "......\n",
      "\n",
      "Recommendations for heady topper:\n",
      "1: Ballast Point Brewing Company Sculpin, with distance of 0.45566859904074275\n",
      "2: Firestone Walker Brewing Co. Parabola, with distance of 0.4538520284875637\n",
      "3: Maine Beer Company Lunch, with distance of 0.44839277731363236\n",
      "4: Stone Brewing Enjoy By IPA, with distance of 0.44443136991614807\n",
      "5: Lawson's Finest Liquids Sip Of Sunshine, with distance of 0.42414904471251336\n",
      "6: Goose Island Beer Co. Bourbon County Brand Coffee Stout, with distance of 0.42311680835404275\n",
      "7: 3 Floyds Brewing Co. Zombie Dust, with distance of 0.4216132872653664\n",
      "8: Goose Island Beer Co. Bourbon County Brand Stout, with distance of 0.40867959063368187\n",
      "9: Founders Brewing Company KBS (Kentucky Breakfast Stout), with distance of 0.4048362006608015\n",
      "10: Russian River Brewing Company Pliny The Elder, with distance of 0.39705245442007053\n"
     ]
    }
   ],
   "source": [
    "my_favorite = 'heady topper'\n",
    "\n",
    "make_recommendation(\n",
    "    model_knn=model_knn,\n",
    "    data=mat_beer_features,\n",
    "    fav_beer=my_favorite,\n",
    "    mapper=beer_to_idx,\n",
    "    n_recommendations=10)"
   ]
  },
  {
   "cell_type": "code",
   "execution_count": 161,
   "metadata": {},
   "outputs": [
    {
     "name": "stdout",
     "output_type": "stream",
     "text": [
      "You have input beer: Sip Of Sunshine\n",
      "Found possible matches in our database: [\"Lawson's Finest Liquids Sip Of Sunshine\", 'Tree House Brewing Company Hold On To Sunshine', \"Lawson's Finest Liquids Triple Sunshine\", 'Green Bench Brewing Co. Sunshine City IPA', \"Fat Head's Brewery & Saloon Sunshine Daydream Session IPA\", 'Tröegs Brewing Company Sunshine Pils', 'New Belgium Brewing Sunshine Wheat Beer', \"Lawson's Finest Liquids Double Sunshine\", 'Grand Teton Brewing Co. Pursuit Of Hoppiness', 'Florida Beer Company Sunshine State FL-Lager.', 'Evil Twin Brewing Citra Sunshine Slacker', 'Drop-In Brewing Company Sunshine And Hoppiness', \"Devil's Canyon Brewing Company California Sunshine Rye IPA\", 'Breakside Brewery Breakside Liquid Sunshine Pilsner', 'The Rare Barrel Apropos Of Nothing', 'Utah Brewers Cooperative Squatters Full Suspension Pale Ale', 'Uinta Brewing Company Monkshine Belgian Style Blonde Ale', 'Sea Dog Brewing Company Sea Dog Sunfish', 'Crown Valley Brewing & Distilling Co. Gunslinger Double India Pale Ale', 'Central Waters Brewing Co. Shine On Ale', \"Al's of Hampden / Pizza Boy Brewing Eternal Sunshine\", '3 Floyds Brewing Co. Blood Of The Sunsets']\n",
      "\n",
      "Recommendation system: start to making inference\n",
      "......\n",
      "\n",
      "Recommendations for Sip Of Sunshine:\n",
      "1: Trillium Brewing Company Congress Street IPA, with distance of 0.4731728019516013\n",
      "2: Maine Beer Company Lunch, with distance of 0.4638706547555346\n",
      "3: The Alchemist Crusher, with distance of 0.4638334228917753\n",
      "4: Fiddlehead Brewing Company Second Fiddle, with distance of 0.4555491508360008\n",
      "5: Tree House Brewing Company Alter Ego, with distance of 0.4502787451166811\n",
      "6: Tree House Brewing Company Haze, with distance of 0.42486383924535387\n",
      "7: The Alchemist Heady Topper, with distance of 0.42414904471251336\n",
      "8: Tree House Brewing Company Green, with distance of 0.4072828343250863\n",
      "9: Tree House Brewing Company Julius, with distance of 0.36493240982608954\n",
      "10: The Alchemist Focal Banger, with distance of 0.35171889335935547\n"
     ]
    }
   ],
   "source": [
    "my_favorite = \"Sip Of Sunshine\"\n",
    "\n",
    "make_recommendation(\n",
    "    model_knn=model_knn,\n",
    "    data=mat_beer_features,\n",
    "    fav_beer=my_favorite,\n",
    "    mapper=beer_to_idx,\n",
    "    n_recommendations=10)"
   ]
  },
  {
   "cell_type": "code",
   "execution_count": 162,
   "metadata": {},
   "outputs": [
    {
     "name": "stdout",
     "output_type": "stream",
     "text": [
      "You have input beer: troegs perpetual\n",
      "Found possible matches in our database: ['Tröegs Brewing Company Perpetual IPA', 'No Label Brewing Company Perpetual Peace', 'Strange Roots Experimental Ales Simon Girty', 'Strange Roots Experimental Ales R2 Koelschip', 'Strange Roots Experimental Ales Geestelijke', 'Strange Roots Experimental Ales Cru', 'Saucony Creek Brewing Company + Gastropub Maple Mistress Imperial Ale', 'Funky Buddha Brewery Dread Pirate Roberts Imperial Stout', 'Foam Brewers Experimental Jet Set']\n",
      "\n",
      "Recommendation system: start to making inference\n",
      "......\n",
      "\n",
      "Recommendations for troegs perpetual:\n",
      "1: Victory Brewing Company - Downingtown Hop Ranch, with distance of 0.607301407017117\n",
      "2: Victory Brewing Company - Downingtown HopDevil, with distance of 0.60430829726632\n",
      "3: Victory Brewing Company - Downingtown DirtWolf, with distance of 0.5905036431047799\n",
      "4: Tröegs Brewing Company Hop Knife Harvest Ale, with distance of 0.583583074799895\n",
      "5: Tröegs Brewing Company Troegenator, with distance of 0.5815245017478985\n",
      "6: Tröegs Brewing Company The Mad Elf, with distance of 0.5738321515872744\n",
      "7: Tröegs Brewing Company Java Head Stout, with distance of 0.5695069619094768\n",
      "8: Ithaca Beer Company Flower Power India Pale Ale, with distance of 0.5482285095567775\n",
      "9: Tröegs Brewing Company Hopback Amber Ale, with distance of 0.5410870163725483\n",
      "10: Tröegs Brewing Company Nugget Nectar, with distance of 0.5332879184439214\n"
     ]
    }
   ],
   "source": [
    "my_favorite = \"troegs perpetual\"\n",
    "\n",
    "make_recommendation(\n",
    "    model_knn=model_knn,\n",
    "    data=mat_beer_features,\n",
    "    fav_beer=my_favorite,\n",
    "    mapper=beer_to_idx,\n",
    "    n_recommendations=10)"
   ]
  },
  {
   "cell_type": "code",
   "execution_count": 217,
   "metadata": {},
   "outputs": [
    {
     "name": "stdout",
     "output_type": "stream",
     "text": [
      "You have input beer: Zero Gravity american flatbread Conehead IPA\n",
      "Found possible matches in our database: ['Zero Gravity Craft Brewery / American Flatbread Conehead IPA', 'Zero Gravity Craft Brewery / American Flatbread T.L.A. IPA', 'Zero Gravity Craft Brewery / American Flatbread Narconaut Black IPA', 'Zero Gravity Craft Brewery / American Flatbread Madonna', 'Zero Gravity Craft Brewery / American Flatbread Green State', 'Zero Gravity Craft Brewery / American Flatbread Little Wolf']\n",
      "\n",
      "Recommendation system: start to making inference\n",
      "......\n",
      "\n",
      "Recommendations for Zero Gravity american flatbread Conehead IPA:\n",
      "1: Fiddlehead Brewing Company Second Fiddle, with distance of 0.6660208901795097\n",
      "2: Foley Brothers Brewing Prospect, with distance of 0.6639819263223538\n",
      "3: 14th Star Brewing Co. Maple Breakfast Stout, with distance of 0.6584506995030868\n",
      "4: Foley Brothers Brewing Fair Maiden Double IPA, with distance of 0.6559325265821234\n",
      "5: Lost Nation Brewing Lost Galaxy, with distance of 0.6473364531439354\n",
      "6: 14th Star Brewing Co. Tribute Double India Pale Ale, with distance of 0.6336425695263552\n",
      "7: Lawson's Finest Liquids Super Session #2, with distance of 0.6241925242523935\n",
      "8: Lost Nation Brewing Mosaic IPA, with distance of 0.6129138094806494\n",
      "9: Lost Nation Brewing Gose, with distance of 0.6078239176958489\n",
      "10: Fiddlehead Brewing Company Fiddlehead IPA, with distance of 0.5908521451169003\n"
     ]
    }
   ],
   "source": [
    "my_favorite = \"Zero Gravity american flatbread Conehead IPA\"\n",
    "\n",
    "make_recommendation(\n",
    "    model_knn=model_knn,\n",
    "    data=mat_beer_features,\n",
    "    fav_beer=my_favorite,\n",
    "    mapper=beer_to_idx,\n",
    "    n_recommendations=10)"
   ]
  },
  {
   "cell_type": "code",
   "execution_count": null,
   "metadata": {},
   "outputs": [],
   "source": []
  }
 ],
 "metadata": {
  "kernelspec": {
   "display_name": "Python [conda env:root] *",
   "language": "python",
   "name": "conda-root-py"
  },
  "language_info": {
   "codemirror_mode": {
    "name": "ipython",
    "version": 3
   },
   "file_extension": ".py",
   "mimetype": "text/x-python",
   "name": "python",
   "nbconvert_exporter": "python",
   "pygments_lexer": "ipython3",
   "version": "3.7.4"
  }
 },
 "nbformat": 4,
 "nbformat_minor": 4
}
