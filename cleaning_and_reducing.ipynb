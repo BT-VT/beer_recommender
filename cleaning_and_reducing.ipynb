{
 "cells": [
  {
   "cell_type": "markdown",
   "metadata": {},
   "source": [
    "### About\n",
    "\n",
    "This file is attempting to find the best way to fairly reduce the dataset so that it can be represented as a matrix in memory"
   ]
  },
  {
   "cell_type": "code",
   "execution_count": 1,
   "metadata": {},
   "outputs": [],
   "source": [
    "import numpy as np\n",
    "import pandas as pd\n",
    "import matplotlib.pyplot as plt\n",
    "import seaborn as sns\n",
    "import glob\n",
    "import cv2\n",
    "%matplotlib inline"
   ]
  },
  {
   "cell_type": "code",
   "execution_count": 79,
   "metadata": {},
   "outputs": [],
   "source": [
    "# takes a dataframe with beer_id as index and user_id as a label,\n",
    "# returns a new dataframe grouped by beer_id with num_ratings column.\n",
    "def get_beer_ratings_count(df):\n",
    "    beer_group = df.groupby('beer_id', sort=True)\n",
    "    # get the number of reviews per beer, make it a dataframe\n",
    "    beer_num_reviews_df = beer_group.count().drop(columns=['user_score']).rename(columns={'user_id': 'num_reviews'})\n",
    "    # sort beers by number of reviews\n",
    "    beer_num_reviews_df = beer_num_reviews_df.sort_values(by=['num_reviews'])\n",
    "    \n",
    "    return beer_num_reviews_df.reset_index()   "
   ]
  },
  {
   "cell_type": "code",
   "execution_count": 21,
   "metadata": {},
   "outputs": [],
   "source": [
    "# has beer names\n",
    "df_orig = pd.read_csv('./Beer_Data/reduced_numeric_data.csv')"
   ]
  },
  {
   "cell_type": "code",
   "execution_count": 22,
   "metadata": {},
   "outputs": [
    {
     "data": {
      "text/html": [
       "<div>\n",
       "<style scoped>\n",
       "    .dataframe tbody tr th:only-of-type {\n",
       "        vertical-align: middle;\n",
       "    }\n",
       "\n",
       "    .dataframe tbody tr th {\n",
       "        vertical-align: top;\n",
       "    }\n",
       "\n",
       "    .dataframe thead th {\n",
       "        text-align: right;\n",
       "    }\n",
       "</style>\n",
       "<table border=\"1\" class=\"dataframe\">\n",
       "  <thead>\n",
       "    <tr style=\"text-align: right;\">\n",
       "      <th></th>\n",
       "      <th>beer_id</th>\n",
       "      <th>user_score</th>\n",
       "      <th>user_id</th>\n",
       "    </tr>\n",
       "  </thead>\n",
       "  <tbody>\n",
       "    <tr>\n",
       "      <th>0</th>\n",
       "      <td>18580</td>\n",
       "      <td>3.75</td>\n",
       "      <td>1</td>\n",
       "    </tr>\n",
       "    <tr>\n",
       "      <th>1</th>\n",
       "      <td>18570</td>\n",
       "      <td>4.25</td>\n",
       "      <td>1</td>\n",
       "    </tr>\n",
       "    <tr>\n",
       "      <th>2</th>\n",
       "      <td>18581</td>\n",
       "      <td>4.25</td>\n",
       "      <td>1</td>\n",
       "    </tr>\n",
       "    <tr>\n",
       "      <th>3</th>\n",
       "      <td>4200</td>\n",
       "      <td>4.25</td>\n",
       "      <td>1</td>\n",
       "    </tr>\n",
       "    <tr>\n",
       "      <th>4</th>\n",
       "      <td>1</td>\n",
       "      <td>4.50</td>\n",
       "      <td>1</td>\n",
       "    </tr>\n",
       "    <tr>\n",
       "      <th>...</th>\n",
       "      <td>...</td>\n",
       "      <td>...</td>\n",
       "      <td>...</td>\n",
       "    </tr>\n",
       "    <tr>\n",
       "      <th>4965676</th>\n",
       "      <td>19337</td>\n",
       "      <td>3.50</td>\n",
       "      <td>102604</td>\n",
       "    </tr>\n",
       "    <tr>\n",
       "      <th>4965677</th>\n",
       "      <td>19332</td>\n",
       "      <td>3.50</td>\n",
       "      <td>102604</td>\n",
       "    </tr>\n",
       "    <tr>\n",
       "      <th>4965678</th>\n",
       "      <td>19347</td>\n",
       "      <td>3.82</td>\n",
       "      <td>102605</td>\n",
       "    </tr>\n",
       "    <tr>\n",
       "      <th>4965679</th>\n",
       "      <td>20332</td>\n",
       "      <td>4.17</td>\n",
       "      <td>102605</td>\n",
       "    </tr>\n",
       "    <tr>\n",
       "      <th>4965680</th>\n",
       "      <td>23542</td>\n",
       "      <td>4.42</td>\n",
       "      <td>102606</td>\n",
       "    </tr>\n",
       "  </tbody>\n",
       "</table>\n",
       "<p>4965681 rows × 3 columns</p>\n",
       "</div>"
      ],
      "text/plain": [
       "         beer_id  user_score  user_id\n",
       "0          18580        3.75        1\n",
       "1          18570        4.25        1\n",
       "2          18581        4.25        1\n",
       "3           4200        4.25        1\n",
       "4              1        4.50        1\n",
       "...          ...         ...      ...\n",
       "4965676    19337        3.50   102604\n",
       "4965677    19332        3.50   102604\n",
       "4965678    19347        3.82   102605\n",
       "4965679    20332        4.17   102605\n",
       "4965680    23542        4.42   102606\n",
       "\n",
       "[4965681 rows x 3 columns]"
      ]
     },
     "execution_count": 22,
     "metadata": {},
     "output_type": "execute_result"
    }
   ],
   "source": [
    "df_orig"
   ]
  },
  {
   "cell_type": "code",
   "execution_count": 23,
   "metadata": {},
   "outputs": [
    {
     "data": {
      "text/plain": [
       "9999"
      ]
     },
     "execution_count": 23,
     "metadata": {},
     "output_type": "execute_result"
    }
   ],
   "source": [
    "# number of beers\n",
    "len(set(df_orig['beer_id'].tolist()))"
   ]
  },
  {
   "cell_type": "code",
   "execution_count": 35,
   "metadata": {},
   "outputs": [],
   "source": [
    "# group data by users\n",
    "user_group = df_orig.groupby('user_id')"
   ]
  },
  {
   "cell_type": "code",
   "execution_count": 36,
   "metadata": {},
   "outputs": [],
   "source": [
    "# build a dataframe that shows the number of reviews each user has\n",
    "user_num_reviews_df = user_group.count().drop(columns=['user_score']).rename(columns={'beer_id': 'num_reviews'})"
   ]
  },
  {
   "cell_type": "code",
   "execution_count": 37,
   "metadata": {},
   "outputs": [],
   "source": [
    "# sort data by number of reviews\n",
    "user_num_reviews_df = user_num_reviews_df.reset_index().sort_values(by=['num_reviews'])"
   ]
  },
  {
   "cell_type": "code",
   "execution_count": 49,
   "metadata": {},
   "outputs": [],
   "source": [
    "# reset the index count for better looking data\n",
    "user_num_reviews_df = user_num_reviews_df.reset_index(drop=True)"
   ]
  },
  {
   "cell_type": "code",
   "execution_count": 68,
   "metadata": {},
   "outputs": [
    {
     "data": {
      "text/plain": [
       "52707"
      ]
     },
     "execution_count": 68,
     "metadata": {},
     "output_type": "execute_result"
    }
   ],
   "source": [
    "# 52707 users out of 101,574 users have more than 6 reviews (we will drop the rest)\n",
    "users_2_keep = user_num_reviews_df[user_num_reviews_df['num_reviews'] > 5]['user_id'].tolist()\n",
    "len(users_2_keep)"
   ]
  },
  {
   "cell_type": "code",
   "execution_count": 69,
   "metadata": {},
   "outputs": [],
   "source": [
    "# drop users with less than 6 reviews\n",
    "df_reduced = df_orig[df_orig['user_id'].isin(users_2_keep)]"
   ]
  },
  {
   "cell_type": "code",
   "execution_count": 75,
   "metadata": {},
   "outputs": [
    {
     "data": {
      "text/html": [
       "<div>\n",
       "<style scoped>\n",
       "    .dataframe tbody tr th:only-of-type {\n",
       "        vertical-align: middle;\n",
       "    }\n",
       "\n",
       "    .dataframe tbody tr th {\n",
       "        vertical-align: top;\n",
       "    }\n",
       "\n",
       "    .dataframe thead th {\n",
       "        text-align: right;\n",
       "    }\n",
       "</style>\n",
       "<table border=\"1\" class=\"dataframe\">\n",
       "  <thead>\n",
       "    <tr style=\"text-align: right;\">\n",
       "      <th></th>\n",
       "      <th>beer_id</th>\n",
       "      <th>user_score</th>\n",
       "      <th>user_id</th>\n",
       "    </tr>\n",
       "  </thead>\n",
       "  <tbody>\n",
       "    <tr>\n",
       "      <th>0</th>\n",
       "      <td>18580</td>\n",
       "      <td>3.75</td>\n",
       "      <td>1</td>\n",
       "    </tr>\n",
       "    <tr>\n",
       "      <th>1</th>\n",
       "      <td>18570</td>\n",
       "      <td>4.25</td>\n",
       "      <td>1</td>\n",
       "    </tr>\n",
       "    <tr>\n",
       "      <th>2</th>\n",
       "      <td>18581</td>\n",
       "      <td>4.25</td>\n",
       "      <td>1</td>\n",
       "    </tr>\n",
       "    <tr>\n",
       "      <th>3</th>\n",
       "      <td>4200</td>\n",
       "      <td>4.25</td>\n",
       "      <td>1</td>\n",
       "    </tr>\n",
       "    <tr>\n",
       "      <th>4</th>\n",
       "      <td>1</td>\n",
       "      <td>4.50</td>\n",
       "      <td>1</td>\n",
       "    </tr>\n",
       "    <tr>\n",
       "      <th>...</th>\n",
       "      <td>...</td>\n",
       "      <td>...</td>\n",
       "      <td>...</td>\n",
       "    </tr>\n",
       "    <tr>\n",
       "      <th>4964440</th>\n",
       "      <td>3583</td>\n",
       "      <td>4.25</td>\n",
       "      <td>101906</td>\n",
       "    </tr>\n",
       "    <tr>\n",
       "      <th>4964441</th>\n",
       "      <td>14654</td>\n",
       "      <td>4.00</td>\n",
       "      <td>101906</td>\n",
       "    </tr>\n",
       "    <tr>\n",
       "      <th>4964442</th>\n",
       "      <td>1106</td>\n",
       "      <td>3.40</td>\n",
       "      <td>101906</td>\n",
       "    </tr>\n",
       "    <tr>\n",
       "      <th>4964443</th>\n",
       "      <td>11819</td>\n",
       "      <td>4.00</td>\n",
       "      <td>101906</td>\n",
       "    </tr>\n",
       "    <tr>\n",
       "      <th>4964444</th>\n",
       "      <td>3622</td>\n",
       "      <td>4.25</td>\n",
       "      <td>101906</td>\n",
       "    </tr>\n",
       "  </tbody>\n",
       "</table>\n",
       "<p>4837392 rows × 3 columns</p>\n",
       "</div>"
      ],
      "text/plain": [
       "         beer_id  user_score  user_id\n",
       "0          18580        3.75        1\n",
       "1          18570        4.25        1\n",
       "2          18581        4.25        1\n",
       "3           4200        4.25        1\n",
       "4              1        4.50        1\n",
       "...          ...         ...      ...\n",
       "4964440     3583        4.25   101906\n",
       "4964441    14654        4.00   101906\n",
       "4964442     1106        3.40   101906\n",
       "4964443    11819        4.00   101906\n",
       "4964444     3622        4.25   101906\n",
       "\n",
       "[4837392 rows x 3 columns]"
      ]
     },
     "execution_count": 75,
     "metadata": {},
     "output_type": "execute_result"
    }
   ],
   "source": [
    "# there are still 4.8 million reviews, but they share a lot more users/beers\n",
    "df_reduced"
   ]
  },
  {
   "cell_type": "code",
   "execution_count": 125,
   "metadata": {},
   "outputs": [],
   "source": [
    "# write newly reduced dataframe to file\n",
    "df_reduced.to_csv('./Beer_Data/reduced_data_X2.csv', index=False)"
   ]
  },
  {
   "cell_type": "code",
   "execution_count": 118,
   "metadata": {},
   "outputs": [],
   "source": [
    "# get updated review count per beer, and import review count per beer before users were removed\n",
    "reviews_per_beer_reducedX2 = get_beer_ratings_count(df_reduced)\n",
    "reviews_per_beer_reduced = pd.read_csv('./Beer_Data/reduced_reviews_per_beer.csv')"
   ]
  },
  {
   "cell_type": "code",
   "execution_count": 121,
   "metadata": {},
   "outputs": [
    {
     "data": {
      "text/html": [
       "<div>\n",
       "<style scoped>\n",
       "    .dataframe tbody tr th:only-of-type {\n",
       "        vertical-align: middle;\n",
       "    }\n",
       "\n",
       "    .dataframe tbody tr th {\n",
       "        vertical-align: top;\n",
       "    }\n",
       "\n",
       "    .dataframe thead th {\n",
       "        text-align: right;\n",
       "    }\n",
       "</style>\n",
       "<table border=\"1\" class=\"dataframe\">\n",
       "  <thead>\n",
       "    <tr style=\"text-align: right;\">\n",
       "      <th></th>\n",
       "      <th>beer_id</th>\n",
       "      <th>num_reviews</th>\n",
       "      <th>old_num_reviews</th>\n",
       "    </tr>\n",
       "  </thead>\n",
       "  <tbody>\n",
       "    <tr>\n",
       "      <th>0</th>\n",
       "      <td>5659</td>\n",
       "      <td>63</td>\n",
       "      <td>72</td>\n",
       "    </tr>\n",
       "    <tr>\n",
       "      <th>1</th>\n",
       "      <td>3078</td>\n",
       "      <td>64</td>\n",
       "      <td>72</td>\n",
       "    </tr>\n",
       "    <tr>\n",
       "      <th>2</th>\n",
       "      <td>18574</td>\n",
       "      <td>66</td>\n",
       "      <td>72</td>\n",
       "    </tr>\n",
       "    <tr>\n",
       "      <th>3</th>\n",
       "      <td>5367</td>\n",
       "      <td>66</td>\n",
       "      <td>72</td>\n",
       "    </tr>\n",
       "    <tr>\n",
       "      <th>4</th>\n",
       "      <td>17661</td>\n",
       "      <td>66</td>\n",
       "      <td>72</td>\n",
       "    </tr>\n",
       "    <tr>\n",
       "      <th>...</th>\n",
       "      <td>...</td>\n",
       "      <td>...</td>\n",
       "      <td>...</td>\n",
       "    </tr>\n",
       "    <tr>\n",
       "      <th>9994</th>\n",
       "      <td>1975</td>\n",
       "      <td>13200</td>\n",
       "      <td>14502</td>\n",
       "    </tr>\n",
       "    <tr>\n",
       "      <th>9995</th>\n",
       "      <td>18504</td>\n",
       "      <td>13293</td>\n",
       "      <td>14633</td>\n",
       "    </tr>\n",
       "    <tr>\n",
       "      <th>9996</th>\n",
       "      <td>2577</td>\n",
       "      <td>13889</td>\n",
       "      <td>14826</td>\n",
       "    </tr>\n",
       "    <tr>\n",
       "      <th>9997</th>\n",
       "      <td>6507</td>\n",
       "      <td>14838</td>\n",
       "      <td>16101</td>\n",
       "    </tr>\n",
       "    <tr>\n",
       "      <th>9998</th>\n",
       "      <td>8440</td>\n",
       "      <td>16012</td>\n",
       "      <td>17070</td>\n",
       "    </tr>\n",
       "  </tbody>\n",
       "</table>\n",
       "<p>9999 rows × 3 columns</p>\n",
       "</div>"
      ],
      "text/plain": [
       "      beer_id  num_reviews  old_num_reviews\n",
       "0        5659           63               72\n",
       "1        3078           64               72\n",
       "2       18574           66               72\n",
       "3        5367           66               72\n",
       "4       17661           66               72\n",
       "...       ...          ...              ...\n",
       "9994     1975        13200            14502\n",
       "9995    18504        13293            14633\n",
       "9996     2577        13889            14826\n",
       "9997     6507        14838            16101\n",
       "9998     8440        16012            17070\n",
       "\n",
       "[9999 rows x 3 columns]"
      ]
     },
     "execution_count": 121,
     "metadata": {},
     "output_type": "execute_result"
    }
   ],
   "source": [
    "# add old count to most-reduced df\n",
    "reviews_per_beer_reducedX2['old_num_reviews'] = reviews_per_beer_reduced['num_reviews']\n",
    "reviews_per_beer_reducedX2"
   ]
  },
  {
   "cell_type": "code",
   "execution_count": 127,
   "metadata": {},
   "outputs": [],
   "source": [
    "reviews_per_beer_reducedX2.to_csv('./Beer_Data/reduced_reviews_per_beer_X2.csv', index=False)"
   ]
  },
  {
   "cell_type": "code",
   "execution_count": null,
   "metadata": {},
   "outputs": [],
   "source": []
  }
 ],
 "metadata": {
  "kernelspec": {
   "display_name": "Python [conda env:root] *",
   "language": "python",
   "name": "conda-root-py"
  },
  "language_info": {
   "codemirror_mode": {
    "name": "ipython",
    "version": 3
   },
   "file_extension": ".py",
   "mimetype": "text/x-python",
   "name": "python",
   "nbconvert_exporter": "python",
   "pygments_lexer": "ipython3",
   "version": "3.7.4"
  }
 },
 "nbformat": 4,
 "nbformat_minor": 4
}
