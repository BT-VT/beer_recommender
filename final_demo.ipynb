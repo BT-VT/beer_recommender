{
 "cells": [
  {
   "cell_type": "markdown",
   "metadata": {},
   "source": [
    "This file shows how a user may use the final version (at least final for this project) of Craft-Score. for SVD, it is assumed this user is in the dataset and knows their user ID. For KNN, any beer from the dataset can be searched by beer/brewery name to obtain recommendations of similar beers."
   ]
  },
  {
   "cell_type": "code",
   "execution_count": 1,
   "metadata": {},
   "outputs": [],
   "source": [
    "# import API \n",
    "from collab_filtering import *"
   ]
  },
  {
   "cell_type": "code",
   "execution_count": 2,
   "metadata": {},
   "outputs": [],
   "source": [
    "# get data from files and create a sparse matrix for KNN predictor\n",
    "\n",
    "# dataframes\n",
    "df, beer_ids = import_data()\n",
    "# dictionaries\n",
    "id2beer, beer2id = get_maps(beer_ids)\n",
    "beer2idx = get_beer2idx()   # maps beer names to index of sparse matrix\n",
    "# sparse matrix\n",
    "beer_mat = get_beer_matrix(df)"
   ]
  },
  {
   "cell_type": "code",
   "execution_count": 3,
   "metadata": {},
   "outputs": [],
   "source": [
    "# build each predictor. With KNN, the predictor is returned without being fit.\n",
    "# With SVD, the predictor is returned after it is fit.\n",
    "knn_pred = build_knn_predictor()\n",
    "# if exists=True, a saved pre-fit predictor can be returned by passing its location to 'path'\n",
    "svd_pred = get_svd_recommender(df, path='./svd_dump.txt', exists=True)"
   ]
  },
  {
   "cell_type": "code",
   "execution_count": 4,
   "metadata": {
    "scrolled": true
   },
   "outputs": [
    {
     "name": "stdout",
     "output_type": "stream",
     "text": [
      "KNN RECOMMENDATIONS:\n",
      "\n",
      "You have input beer: Zero Gravity american flatbread Conehead IPA\n",
      "Found possible matches in our database: ['Zero Gravity Craft Brewery / American Flatbread Conehead IPA', 'Zero Gravity Craft Brewery / American Flatbread T.L.A. IPA', 'Zero Gravity Craft Brewery / American Flatbread Narconaut Black IPA', 'Zero Gravity Craft Brewery / American Flatbread Madonna', 'Zero Gravity Craft Brewery / American Flatbread Green State', 'Zero Gravity Craft Brewery / American Flatbread Little Wolf']\n",
      "\n",
      "Recommendation system: starting to make inference\n",
      "......\n",
      "\n",
      "Recommendations for Zero Gravity Craft Brewery / American Flatbread Conehead IPA:\n",
      "1: Fiddlehead Brewing Company Fiddlehead IPA, with distance of 0.591\n",
      "2: Lost Nation Brewing Gose, with distance of 0.608\n",
      "3: Lost Nation Brewing Mosaic IPA, with distance of 0.613\n",
      "4: Lawson's Finest Liquids Super Session #2, with distance of 0.624\n",
      "5: 14th Star Brewing Co. Tribute Double India Pale Ale, with distance of 0.634\n",
      "6: Lost Nation Brewing Lost Galaxy, with distance of 0.647\n",
      "7: Foley Brothers Brewing Fair Maiden Double IPA, with distance of 0.656\n",
      "8: 14th Star Brewing Co. Maple Breakfast Stout, with distance of 0.658\n",
      "9: Foley Brothers Brewing Prospect, with distance of 0.664\n",
      "10: Fiddlehead Brewing Company Second Fiddle, with distance of 0.666\n",
      "\n",
      "\n",
      "\n",
      "SVD RECOMMENDATIONS:\n",
      "\n",
      "0: Toppling Goliath Brewing Company Kentucky Brunch Brand Stout, with estimation of 4.745690\n",
      "1: J. Wakefield Brewing It Was All A Dream, with estimation of 4.696280\n",
      "2: Side Project Brewing Anabasis, with estimation of 4.676605\n",
      "3: Side Project Brewing Framboise Du Fermier, with estimation of 4.666152\n",
      "4: Sante Adairius Rustic Ales Westly, with estimation of 4.662052\n",
      "5: Toppling Goliath Brewing Company SR-71, with estimation of 4.659837\n",
      "6: Cigar City Brewing Hunahpu's Imperial Stout - Double Barrel Aged, with estimation of 4.652653\n",
      "7: Perennial Artisan Ales Barrel-Aged Abraxas, with estimation of 4.651558\n",
      "8: 3 Floyds Brewing Co. Marshmallow Handjee, with estimation of 4.650187\n",
      "9: Tree House Brewing Company King JJJuliusss, with estimation of 4.644654\n",
      "\n",
      "\n"
     ]
    }
   ],
   "source": [
    "# call each function to make two different predictions.\n",
    "\n",
    "# KNN takes a single string representing the beer/brewery name and builds a\n",
    "# prediction from it by determining beer names that are similar. It works best \n",
    "# when both beer and brewery names are in the string.\n",
    "beer_i_like = \"Zero Gravity american flatbread Conehead IPA\"\n",
    "print(\"KNN RECOMMENDATIONS:\\n\")\n",
    "knn_recommendations = make_knn_recommendation(model_knn=knn_pred,\n",
    "                                               data=beer_mat,\n",
    "                                               fav_beer=beer_i_like,\n",
    "                                               n_recommendations=10,\n",
    "                                               mapper=beer2idx,\n",
    "                                               verbose=True) \n",
    "print('\\n\\n')\n",
    "\n",
    "# SVD takes builds predictions based on a users ID number, where the user must\n",
    "# already be in the dataset. It determines the Nth highest estimated recommendations\n",
    "# for that user, excluding any beers they have already tried.\n",
    "user_id =  9\n",
    "print(\"SVD RECOMMENDATIONS:\\n\")\n",
    "make_svd_recommendation(user=user_id,\n",
    "                        algo=svd_pred,\n",
    "                        df=df,\n",
    "                        num_beers=10)\n",
    "print('\\n')"
   ]
  },
  {
   "cell_type": "code",
   "execution_count": 7,
   "metadata": {},
   "outputs": [
    {
     "name": "stdout",
     "output_type": "stream",
     "text": [
      "You have input beer: hoof hearted Everybody Wants Some Citra\n",
      "Recommendation system: starting to make inference\n",
      "......\n",
      "\n",
      "Recommendations for Hoof Hearted Brewing Everybody Wants Some *Citra*:\n",
      "1: Hoof Hearted Brewing Konkey Dong, with distance of 0.649\n",
      "2: Hoof Hearted Brewing Roller Blabe DIPA, with distance of 0.657\n",
      "3: Hoof Hearted Brewing Dragonsaddle, with distance of 0.689\n",
      "4: Hoof Hearted Brewing Are We Having Fun Yet?, with distance of 0.694\n",
      "5: Hoof Hearted Brewing South Of Eleven, with distance of 0.713\n",
      "6: Hoof Hearted Brewing Wängbär, with distance of 0.72\n",
      "7: Hoof Hearted Brewing Wet When Slippery, with distance of 0.738\n",
      "8: Hoof Hearted Brewing Musk Of The Minotaur IPA, with distance of 0.739\n",
      "9: Jackie O's Pub & Brewery Bourbon Barrel Champion Ground, with distance of 0.75\n",
      "10: Hoof Hearted Brewing Everybody Wants Some, with distance of 0.753\n"
     ]
    }
   ],
   "source": [
    "# recommendation without verbose information, showing an example of a search for a beer that is in the dataset but\n",
    "# is less popular. The majority of beers recommended are from the same brewery, most likely due to the small number\n",
    "# of users who rated this beer and subsequently, the breweries other beers.\n",
    "beer_i_like = \"hoof hearted Everybody Wants Some Citra\"\n",
    "knn_recommendations = make_knn_recommendation(model_knn=knn_pred,\n",
    "                                               data=beer_mat,\n",
    "                                               fav_beer=beer_i_like,\n",
    "                                               n_recommendations=10,\n",
    "                                               mapper=beer2idx) "
   ]
  },
  {
   "cell_type": "code",
   "execution_count": 8,
   "metadata": {},
   "outputs": [
    {
     "name": "stdout",
     "output_type": "stream",
     "text": [
      "Hoof Hearted Brewing Everybody Wants Some *Citra*: \t4.340099\n",
      "\n"
     ]
    },
    {
     "data": {
      "text/plain": [
       "('Hoof Hearted Brewing Everybody Wants Some *Citra*', 4.340098819250872)"
      ]
     },
     "execution_count": 8,
     "metadata": {},
     "output_type": "execute_result"
    }
   ],
   "source": [
    "# predict the rating a user would give to a single beer\n",
    "make_single_prediction(user_id=user_id,\n",
    "                       new_beer=beer_i_like,\n",
    "                       beer_ids=beer_ids,\n",
    "                       svd_pred=svd_pred)"
   ]
  },
  {
   "cell_type": "code",
   "execution_count": null,
   "metadata": {},
   "outputs": [],
   "source": []
  }
 ],
 "metadata": {
  "kernelspec": {
   "display_name": "Python [conda env:root] *",
   "language": "python",
   "name": "conda-root-py"
  },
  "language_info": {
   "codemirror_mode": {
    "name": "ipython",
    "version": 3
   },
   "file_extension": ".py",
   "mimetype": "text/x-python",
   "name": "python",
   "nbconvert_exporter": "python",
   "pygments_lexer": "ipython3",
   "version": "3.7.4"
  }
 },
 "nbformat": 4,
 "nbformat_minor": 4
}
